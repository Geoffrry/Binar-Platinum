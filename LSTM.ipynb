{
  "cells": [
    {
      "cell_type": "markdown",
      "metadata": {
        "id": "wwR0HRIpxvSu"
      },
      "source": [
        "### **Import Library**"
      ]
    },
    {
      "cell_type": "code",
      "execution_count": 99,
      "metadata": {
        "id": "dyXdHJ9kkc-b"
      },
      "outputs": [],
      "source": [
        "# Library for Dataset Preparation, Processing, and Visualization\n",
        "import pandas as pd\n",
        "import json\n",
        "import numpy as np\n",
        "import re\n",
        "import matplotlib.pyplot as plt\n",
        "import seaborn as sm\n",
        "\n",
        "# Library for Machine Learning Model\n",
        "from sklearn.model_selection import train_test_split\n",
        "from sklearn.feature_extraction.text import CountVectorizer, TfidfVectorizer\n",
        "from sklearn.neural_network import MLPClassifier\n",
        "from sklearn import metrics\n",
        "from sklearn.metrics import classification_report\n",
        "from sklearn.metrics import accuracy_score\n",
        "from sklearn.model_selection import KFold\n",
        "\n",
        "# Pickle\n",
        "import pickle\n",
        "\n",
        "# TensorFlow\n",
        "from tensorflow.keras.preprocessing.text import Tokenizer\n",
        "from tensorflow.keras.preprocessing.sequence import pad_sequences\n",
        "from tensorflow.keras import layers\n",
        "from tensorflow.keras.models import Sequential\n",
        "from tensorflow.keras.layers import Dense, Embedding, LSTM, SpatialDropout1D, SimpleRNN, Activation\n",
        "from tensorflow.keras import optimizers\n",
        "from tensorflow.keras.callbacks import EarlyStopping, TensorBoard\n",
        "from tensorflow.keras.layers import Flatten\n",
        "from tensorflow.keras import backend as K\n",
        "from tensorflow.keras.layers import Dropout\n",
        "from keras.models import load_model\n",
        "\n",
        "# Pickle\n",
        "from collections import defaultdict"
      ]
    },
    {
      "cell_type": "markdown",
      "metadata": {
        "id": "VVKtoIlZyDbI"
      },
      "source": [
        "### **Import Datasets**"
      ]
    },
    {
      "cell_type": "code",
      "execution_count": 100,
      "metadata": {
        "colab": {
          "base_uri": "https://localhost:8080/",
          "height": 206
        },
        "id": "iwxCrUY_kvgF",
        "outputId": "9cd73ea6-0fa8-4f53-d9a7-2c71b7241fc3"
      },
      "outputs": [
        {
          "data": {
            "text/html": [
              "<div>\n",
              "<style scoped>\n",
              "    .dataframe tbody tr th:only-of-type {\n",
              "        vertical-align: middle;\n",
              "    }\n",
              "\n",
              "    .dataframe tbody tr th {\n",
              "        vertical-align: top;\n",
              "    }\n",
              "\n",
              "    .dataframe thead th {\n",
              "        text-align: right;\n",
              "    }\n",
              "</style>\n",
              "<table border=\"1\" class=\"dataframe\">\n",
              "  <thead>\n",
              "    <tr style=\"text-align: right;\">\n",
              "      <th></th>\n",
              "      <th>text</th>\n",
              "      <th>label</th>\n",
              "    </tr>\n",
              "  </thead>\n",
              "  <tbody>\n",
              "    <tr>\n",
              "      <th>0</th>\n",
              "      <td>warung ini dimiliki oleh pengusaha pabrik tahu...</td>\n",
              "      <td>positive</td>\n",
              "    </tr>\n",
              "    <tr>\n",
              "      <th>1</th>\n",
              "      <td>mohon ulama lurus dan k212 mmbri hujjah partai...</td>\n",
              "      <td>neutral</td>\n",
              "    </tr>\n",
              "    <tr>\n",
              "      <th>2</th>\n",
              "      <td>lokasi strategis di jalan sumatera bandung . t...</td>\n",
              "      <td>positive</td>\n",
              "    </tr>\n",
              "    <tr>\n",
              "      <th>3</th>\n",
              "      <td>betapa bahagia nya diri ini saat unboxing pake...</td>\n",
              "      <td>positive</td>\n",
              "    </tr>\n",
              "    <tr>\n",
              "      <th>4</th>\n",
              "      <td>duh . jadi mahasiswa jangan sombong dong . kas...</td>\n",
              "      <td>negative</td>\n",
              "    </tr>\n",
              "  </tbody>\n",
              "</table>\n",
              "</div>"
            ],
            "text/plain": [
              "                                                text     label\n",
              "0  warung ini dimiliki oleh pengusaha pabrik tahu...  positive\n",
              "1  mohon ulama lurus dan k212 mmbri hujjah partai...   neutral\n",
              "2  lokasi strategis di jalan sumatera bandung . t...  positive\n",
              "3  betapa bahagia nya diri ini saat unboxing pake...  positive\n",
              "4  duh . jadi mahasiswa jangan sombong dong . kas...  negative"
            ]
          },
          "execution_count": 100,
          "metadata": {},
          "output_type": "execute_result"
        }
      ],
      "source": [
        "df_train = pd.read_csv('dataset/train_preprocess.tsv', sep='\\t', names=['text', 'label'])\n",
        "df_train.head()"
      ]
    },
    {
      "cell_type": "code",
      "execution_count": 101,
      "metadata": {
        "colab": {
          "base_uri": "https://localhost:8080/"
        },
        "id": "swK6-SmHD3XZ",
        "outputId": "2f282e66-1420-491b-c4f7-62471c91ff98"
      },
      "outputs": [
        {
          "data": {
            "text/plain": [
              "positive    6416\n",
              "negative    3436\n",
              "neutral     1148\n",
              "Name: label, dtype: int64"
            ]
          },
          "execution_count": 101,
          "metadata": {},
          "output_type": "execute_result"
        }
      ],
      "source": [
        "df_train.label.value_counts()"
      ]
    },
    {
      "cell_type": "code",
      "execution_count": 102,
      "metadata": {
        "colab": {
          "base_uri": "https://localhost:8080/",
          "height": 206
        },
        "id": "i1c4spFFk0kz",
        "outputId": "6beab2cb-f22f-4699-ca7f-724fb3a23edb"
      },
      "outputs": [
        {
          "data": {
            "text/html": [
              "<div>\n",
              "<style scoped>\n",
              "    .dataframe tbody tr th:only-of-type {\n",
              "        vertical-align: middle;\n",
              "    }\n",
              "\n",
              "    .dataframe tbody tr th {\n",
              "        vertical-align: top;\n",
              "    }\n",
              "\n",
              "    .dataframe thead th {\n",
              "        text-align: right;\n",
              "    }\n",
              "</style>\n",
              "<table border=\"1\" class=\"dataframe\">\n",
              "  <thead>\n",
              "    <tr style=\"text-align: right;\">\n",
              "      <th></th>\n",
              "      <th>text</th>\n",
              "    </tr>\n",
              "  </thead>\n",
              "  <tbody>\n",
              "    <tr>\n",
              "      <th>0</th>\n",
              "      <td>- disaat semua cowok berusaha melacak perhatia...</td>\n",
              "    </tr>\n",
              "    <tr>\n",
              "      <th>1</th>\n",
              "      <td>RT USER: USER siapa yang telat ngasih tau elu?...</td>\n",
              "    </tr>\n",
              "    <tr>\n",
              "      <th>2</th>\n",
              "      <td>41. Kadang aku berfikir, kenapa aku tetap perc...</td>\n",
              "    </tr>\n",
              "    <tr>\n",
              "      <th>3</th>\n",
              "      <td>USER USER AKU ITU AKU\\n\\nKU TAU MATAMU SIPIT T...</td>\n",
              "    </tr>\n",
              "    <tr>\n",
              "      <th>4</th>\n",
              "      <td>USER USER Kaum cebong kapir udah keliatan dong...</td>\n",
              "    </tr>\n",
              "  </tbody>\n",
              "</table>\n",
              "</div>"
            ],
            "text/plain": [
              "                                                text\n",
              "0  - disaat semua cowok berusaha melacak perhatia...\n",
              "1  RT USER: USER siapa yang telat ngasih tau elu?...\n",
              "2  41. Kadang aku berfikir, kenapa aku tetap perc...\n",
              "3  USER USER AKU ITU AKU\\n\\nKU TAU MATAMU SIPIT T...\n",
              "4  USER USER Kaum cebong kapir udah keliatan dong..."
            ]
          },
          "execution_count": 102,
          "metadata": {},
          "output_type": "execute_result"
        }
      ],
      "source": [
        "df_test = pd.read_csv('dataset/data.csv', encoding='latin-1')\n",
        "df_test = df_test[['Tweet']]\n",
        "df_test = df_test.rename(columns = {'Tweet' :'text'})\n",
        "df_test['text'].astype(str)\n",
        "df_test.head()"
      ]
    },
    {
      "cell_type": "code",
      "execution_count": 103,
      "metadata": {
        "colab": {
          "base_uri": "https://localhost:8080/",
          "height": 206
        },
        "id": "z2gXHT7bk9_Y",
        "outputId": "976fe150-d78a-407a-a463-d96d7f8ad843"
      },
      "outputs": [
        {
          "data": {
            "text/html": [
              "<div>\n",
              "<style scoped>\n",
              "    .dataframe tbody tr th:only-of-type {\n",
              "        vertical-align: middle;\n",
              "    }\n",
              "\n",
              "    .dataframe tbody tr th {\n",
              "        vertical-align: top;\n",
              "    }\n",
              "\n",
              "    .dataframe thead th {\n",
              "        text-align: right;\n",
              "    }\n",
              "</style>\n",
              "<table border=\"1\" class=\"dataframe\">\n",
              "  <thead>\n",
              "    <tr style=\"text-align: right;\">\n",
              "      <th></th>\n",
              "      <th>slang</th>\n",
              "      <th>normal</th>\n",
              "    </tr>\n",
              "  </thead>\n",
              "  <tbody>\n",
              "    <tr>\n",
              "      <th>0</th>\n",
              "      <td>@</td>\n",
              "      <td>di</td>\n",
              "    </tr>\n",
              "    <tr>\n",
              "      <th>1</th>\n",
              "      <td>abis</td>\n",
              "      <td>habis</td>\n",
              "    </tr>\n",
              "    <tr>\n",
              "      <th>2</th>\n",
              "      <td>ad</td>\n",
              "      <td>ada</td>\n",
              "    </tr>\n",
              "    <tr>\n",
              "      <th>3</th>\n",
              "      <td>adlh</td>\n",
              "      <td>adalah</td>\n",
              "    </tr>\n",
              "    <tr>\n",
              "      <th>4</th>\n",
              "      <td>afaik</td>\n",
              "      <td>as far as i know</td>\n",
              "    </tr>\n",
              "  </tbody>\n",
              "</table>\n",
              "</div>"
            ],
            "text/plain": [
              "   slang            normal\n",
              "0      @                di\n",
              "1   abis             habis\n",
              "2     ad               ada\n",
              "3   adlh            adalah\n",
              "4  afaik  as far as i know"
            ]
          },
          "execution_count": 103,
          "metadata": {},
          "output_type": "execute_result"
        }
      ],
      "source": [
        "with open('dataset/combined_slang_words.json') as f:\n",
        "    jsonstr = json.load(f)\n",
        "df_slang = pd.DataFrame(list(jsonstr.items()),columns = ['slang','normal']) \n",
        "\n",
        "df_slang.head()"
      ]
    },
    {
      "cell_type": "code",
      "execution_count": 104,
      "metadata": {
        "id": "kbcFkpSHlIX1"
      },
      "outputs": [
        {
          "data": {
            "text/html": [
              "<div>\n",
              "<style scoped>\n",
              "    .dataframe tbody tr th:only-of-type {\n",
              "        vertical-align: middle;\n",
              "    }\n",
              "\n",
              "    .dataframe tbody tr th {\n",
              "        vertical-align: top;\n",
              "    }\n",
              "\n",
              "    .dataframe thead th {\n",
              "        text-align: right;\n",
              "    }\n",
              "</style>\n",
              "<table border=\"1\" class=\"dataframe\">\n",
              "  <thead>\n",
              "    <tr style=\"text-align: right;\">\n",
              "      <th></th>\n",
              "      <th>0</th>\n",
              "    </tr>\n",
              "  </thead>\n",
              "  <tbody>\n",
              "    <tr>\n",
              "      <th>0</th>\n",
              "      <td>adalah</td>\n",
              "    </tr>\n",
              "    <tr>\n",
              "      <th>1</th>\n",
              "      <td>adapun</td>\n",
              "    </tr>\n",
              "    <tr>\n",
              "      <th>2</th>\n",
              "      <td>agaknya</td>\n",
              "    </tr>\n",
              "    <tr>\n",
              "      <th>3</th>\n",
              "      <td>akan</td>\n",
              "    </tr>\n",
              "    <tr>\n",
              "      <th>4</th>\n",
              "      <td>akhir</td>\n",
              "    </tr>\n",
              "  </tbody>\n",
              "</table>\n",
              "</div>"
            ],
            "text/plain": [
              "         0\n",
              "0   adalah\n",
              "1   adapun\n",
              "2  agaknya\n",
              "3     akan\n",
              "4    akhir"
            ]
          },
          "execution_count": 104,
          "metadata": {},
          "output_type": "execute_result"
        }
      ],
      "source": [
        "df_stop = pd.read_csv('dataset/combined_stop_words.csv', encoding = 'latin-1', header = None)\n",
        "df_stop.head()\n"
      ]
    },
    {
      "cell_type": "markdown",
      "metadata": {
        "id": "oVderl3ByQks"
      },
      "source": [
        "## **Cleansing**"
      ]
    },
    {
      "cell_type": "code",
      "execution_count": 105,
      "metadata": {
        "colab": {
          "base_uri": "https://localhost:8080/"
        },
        "id": "obowF0vDmNSV",
        "outputId": "2d157cbb-bc76-4277-c30a-dcedcae46310"
      },
      "outputs": [
        {
          "name": "stdout",
          "output_type": "stream",
          "text": [
            "-------------------------------\n",
            "Training dataset Null Values :\n",
            "text     0\n",
            "label    0\n",
            "dtype: int64\n",
            "-------------------------------\n",
            "Test dataset Null Values :\n",
            "text    0\n",
            "dtype: int64\n",
            "-------------------------------\n"
          ]
        }
      ],
      "source": [
        "print('-------------------------------')\n",
        "print('Training dataset Null Values :')\n",
        "print(df_train.isnull().sum())\n",
        "print('-------------------------------')\n",
        "\n",
        "print('Test dataset Null Values :')\n",
        "print(df_test.isnull().sum())\n",
        "print('-------------------------------')"
      ]
    },
    {
      "cell_type": "code",
      "execution_count": 106,
      "metadata": {
        "colab": {
          "base_uri": "https://localhost:8080/"
        },
        "id": "RxOP17hkmOnN",
        "outputId": "ade1c6b8-9639-469d-9b29-95b20da67aac"
      },
      "outputs": [
        {
          "name": "stdout",
          "output_type": "stream",
          "text": [
            "Training dataset duplicated Values : 67\n",
            "\n",
            "Test dataset duplicated Values : 146\n"
          ]
        }
      ],
      "source": [
        "print('Training dataset duplicated Values :', df_train.duplicated().sum())\n",
        "print()\n",
        "print('Test dataset duplicated Values :', df_test.duplicated().sum())"
      ]
    },
    {
      "cell_type": "code",
      "execution_count": 107,
      "metadata": {
        "colab": {
          "base_uri": "https://localhost:8080/"
        },
        "id": "R-2hyeVmmUiS",
        "outputId": "a1100f4c-3200-4e34-8678-1b154ecacc68"
      },
      "outputs": [
        {
          "name": "stdout",
          "output_type": "stream",
          "text": [
            "Jumlah Duplicated Values pada Training Dataset setelah dibersihkan : 0\n",
            "\n",
            "Jumlah Duplicated Values pada Test Dataset setelah dibersihkan : 0\n"
          ]
        }
      ],
      "source": [
        "df_train.drop_duplicates(inplace = True, ignore_index= True)\n",
        "print('Jumlah Duplicated Values pada Training Dataset setelah dibersihkan :', df_train.duplicated().sum())\n",
        "\n",
        "print()\n",
        "\n",
        "df_test.drop_duplicates(inplace = True, ignore_index = True)\n",
        "print('Jumlah Duplicated Values pada Test Dataset setelah dibersihkan :', df_test.duplicated().sum())\n"
      ]
    },
    {
      "cell_type": "markdown",
      "metadata": {
        "id": "c9DpDcm8yIvU"
      },
      "source": [
        "## **Function Cleansing**"
      ]
    },
    {
      "cell_type": "code",
      "execution_count": 108,
      "metadata": {
        "id": "6nGq8kLvmYkE"
      },
      "outputs": [],
      "source": [
        "def Cleansing(text):\n",
        "    \n",
        "    # Regrex\n",
        "    text = text.lower() # membuat semua huruf menjadi lowercase\n",
        "    text = text.strip() # menghapus spasi pada awal dan akhir kalimat\n",
        "    text = re.sub('\\n', ' ', text) # menghilangkan new line\n",
        "    text = re.sub('x[a-z0-9]{,2}',' ', text) # menghilangkan rawstring emoji\n",
        "    text = re.sub('user', ' ', text) # menghilangkan mention USER tertentu\n",
        "    text = re.sub('url', ' ', text) # menghilangkan teks 'url' pada teks\n",
        "    text = re.sub('http\\S+', '', text) # menghilangkan url\n",
        "    text = re.sub('[^0-9a-zA-Z]+', ' ', text) # menghilangkan non-alpha numerik\n",
        "    text = re.sub('( rt )|(rt )', ' ', text) # menghilangkan retweet\n",
        "    text = re.sub('  +', ' ', text) # Menghilangkan spasi berlebih\n",
        "\n",
        "    # Slangwords Normalization\n",
        "    Slang_dict = dict(zip(df_slang['slang'], df_slang['normal']))  # Membuat dataframe slang menjadi dict\n",
        "    holder = [] # variabel list untuk menyimpan kata slang yang sudah dinormalkan\n",
        "    \n",
        "    #pengulangan untuk mengubah word slang menjadi word yang sesuai pada dict\n",
        "    for word in text.split(' '): \n",
        "        \n",
        "        if word in Slang_dict.keys(): \n",
        "            word = Slang_dict[word] # mengubah kata slang menjadi kata yang sesuai pada dict\n",
        "            holder.append(word) # simpan kata slang yang sudah normal ke variabel holder\n",
        "        else :\n",
        "            holder.append(word) \n",
        "            \n",
        "    text = ' '.join(holder) # mengembalikan satu kalimat yang sudah digabungkan dari list huruf pada holder\n",
        "\n",
        "    # Stopwords Removal\n",
        "    holder = []\n",
        "      \n",
        "    for words in text.split(' '):\n",
        "        if words in df_stop[0].values:\n",
        "          holder.append(' ')\n",
        "        else:\n",
        "          holder.append(words)\n",
        "\n",
        "    text = ' '.join(holder)\n",
        "    text = re.sub(' +', ' ', text) # menghilangkan spasi berlebih\n",
        "    text = text.strip() # menghilangkan whitespace pada awal dan akhir string\n",
        "\n",
        "    return text\n",
        "    "
      ]
    },
    {
      "cell_type": "code",
      "execution_count": 109,
      "metadata": {
        "colab": {
          "base_uri": "https://localhost:8080/"
        },
        "id": "gYLhjfo-nSA2",
        "outputId": "3460a9e5-f9f8-457b-9080-038fc46d791d"
      },
      "outputs": [
        {
          "data": {
            "text/plain": [
              "positive    6383\n",
              "negative    3412\n",
              "neutral     1138\n",
              "Name: label, dtype: int64"
            ]
          },
          "execution_count": 109,
          "metadata": {},
          "output_type": "execute_result"
        }
      ],
      "source": [
        "df_train.label.value_counts()"
      ]
    },
    {
      "cell_type": "code",
      "execution_count": 110,
      "metadata": {
        "colab": {
          "base_uri": "https://localhost:8080/",
          "height": 206
        },
        "id": "C1jDNeDsnejr",
        "outputId": "058758f9-a99b-486b-9146-7cffde987d20"
      },
      "outputs": [
        {
          "data": {
            "text/html": [
              "<div>\n",
              "<style scoped>\n",
              "    .dataframe tbody tr th:only-of-type {\n",
              "        vertical-align: middle;\n",
              "    }\n",
              "\n",
              "    .dataframe tbody tr th {\n",
              "        vertical-align: top;\n",
              "    }\n",
              "\n",
              "    .dataframe thead th {\n",
              "        text-align: right;\n",
              "    }\n",
              "</style>\n",
              "<table border=\"1\" class=\"dataframe\">\n",
              "  <thead>\n",
              "    <tr style=\"text-align: right;\">\n",
              "      <th></th>\n",
              "      <th>text</th>\n",
              "      <th>label</th>\n",
              "      <th>text_clean</th>\n",
              "    </tr>\n",
              "  </thead>\n",
              "  <tbody>\n",
              "    <tr>\n",
              "      <th>0</th>\n",
              "      <td>warung ini dimiliki oleh pengusaha pabrik tahu...</td>\n",
              "      <td>positive</td>\n",
              "      <td>warung dimiliki pengusaha pabrik puluhan terke...</td>\n",
              "    </tr>\n",
              "    <tr>\n",
              "      <th>1</th>\n",
              "      <td>mohon ulama lurus dan k212 mmbri hujjah partai...</td>\n",
              "      <td>neutral</td>\n",
              "      <td>mohon ulama lurus k212 mmbri hujjah partai diw...</td>\n",
              "    </tr>\n",
              "    <tr>\n",
              "      <th>2</th>\n",
              "      <td>lokasi strategis di jalan sumatera bandung . t...</td>\n",
              "      <td>positive</td>\n",
              "      <td>lokasi strategis jalan sumatera bandung nyaman...</td>\n",
              "    </tr>\n",
              "    <tr>\n",
              "      <th>3</th>\n",
              "      <td>betapa bahagia nya diri ini saat unboxing pake...</td>\n",
              "      <td>positive</td>\n",
              "      <td>betapa bahagia unbo g paket barang bagus menet...</td>\n",
              "    </tr>\n",
              "    <tr>\n",
              "      <th>4</th>\n",
              "      <td>duh . jadi mahasiswa jangan sombong dong . kas...</td>\n",
              "      <td>negative</td>\n",
              "      <td>aduh mahasiswa sombong kasih kartu kuning bela...</td>\n",
              "    </tr>\n",
              "  </tbody>\n",
              "</table>\n",
              "</div>"
            ],
            "text/plain": [
              "                                                text     label  \\\n",
              "0  warung ini dimiliki oleh pengusaha pabrik tahu...  positive   \n",
              "1  mohon ulama lurus dan k212 mmbri hujjah partai...   neutral   \n",
              "2  lokasi strategis di jalan sumatera bandung . t...  positive   \n",
              "3  betapa bahagia nya diri ini saat unboxing pake...  positive   \n",
              "4  duh . jadi mahasiswa jangan sombong dong . kas...  negative   \n",
              "\n",
              "                                          text_clean  \n",
              "0  warung dimiliki pengusaha pabrik puluhan terke...  \n",
              "1  mohon ulama lurus k212 mmbri hujjah partai diw...  \n",
              "2  lokasi strategis jalan sumatera bandung nyaman...  \n",
              "3  betapa bahagia unbo g paket barang bagus menet...  \n",
              "4  aduh mahasiswa sombong kasih kartu kuning bela...  "
            ]
          },
          "execution_count": 110,
          "metadata": {},
          "output_type": "execute_result"
        }
      ],
      "source": [
        "df_train['text_clean'] = df_train['text'].apply(Cleansing)\n",
        "df_train.head()"
      ]
    },
    {
      "cell_type": "code",
      "execution_count": 111,
      "metadata": {
        "id": "l8GeDArYnq-5"
      },
      "outputs": [],
      "source": [
        "neg = df_train.loc[df_train['label'] == 'negative'].text_clean.tolist()\n",
        "neu = df_train.loc[df_train['label'] == 'neutral'].text_clean.tolist()\n",
        "pos = df_train.loc[df_train['label'] == 'positive'].text_clean.tolist()\n",
        "\n",
        "neg_label = df_train.loc[df_train['label'] == 'negative'].label.tolist()\n",
        "neu_label = df_train.loc[df_train['label'] == 'neutral'].label.tolist()\n",
        "pos_label = df_train.loc[df_train['label'] == 'positive'].label.tolist()\n"
      ]
    },
    {
      "cell_type": "code",
      "execution_count": 112,
      "metadata": {
        "colab": {
          "base_uri": "https://localhost:8080/"
        },
        "id": "reQubBY2n8pR",
        "outputId": "6a008cf4-4a20-4709-ca39-2bcfaba95ae5"
      },
      "outputs": [
        {
          "name": "stdout",
          "output_type": "stream",
          "text": [
            "Pos: 6383, Neu: 1138, Neg: 3412\n",
            "Total data: 10933\n"
          ]
        },
        {
          "data": {
            "text/plain": [
              "list"
            ]
          },
          "execution_count": 112,
          "metadata": {},
          "output_type": "execute_result"
        }
      ],
      "source": [
        "total_data = pos + neu + neg\n",
        "labels = pos_label + neu_label + neg_label\n",
        "\n",
        "print(\"Pos: %s, Neu: %s, Neg: %s\" % (len(pos), len(neu), len(neg)))\n",
        "print(\"Total data: %s\" % len(total_data))\n",
        "type(total_data)"
      ]
    },
    {
      "cell_type": "markdown",
      "metadata": {
        "id": "2WEvsD_EymL9"
      },
      "source": [
        "### **Feature Extraction**"
      ]
    },
    {
      "cell_type": "code",
      "execution_count": 113,
      "metadata": {
        "colab": {
          "base_uri": "https://localhost:8080/"
        },
        "id": "8YmJ7HqfoXG-",
        "outputId": "beb3a9a0-f602-46f9-d228-cab40b7d34a9"
      },
      "outputs": [
        {
          "name": "stdout",
          "output_type": "stream",
          "text": [
            "tokenizer.pickle has created!\n",
            "x_pad_sequences.pickle has created!\n"
          ]
        }
      ],
      "source": [
        "max_features = 100000\n",
        "tokenizer = Tokenizer(num_words=max_features, split=' ', lower=True)\n",
        "tokenizer.fit_on_texts(total_data)\n",
        "with open('pickle/tokenizer.pickle', 'wb') as handle:\n",
        "    pickle.dump(tokenizer, handle, protocol=pickle.HIGHEST_PROTOCOL)\n",
        "    print(\"tokenizer.pickle has created!\")\n",
        "\n",
        "X = tokenizer.texts_to_sequences(total_data)\n",
        "\n",
        "vocab_size = len(tokenizer.word_index)\n",
        "maxlen = max(len(x) for x in X)\n",
        "\n",
        "X = pad_sequences(X)\n",
        "with open('pickle/x_pad_sequences.pickle', 'wb') as handle:\n",
        "    pickle.dump(X, handle, protocol=pickle.HIGHEST_PROTOCOL)\n",
        "    print(\"x_pad_sequences.pickle has created!\")"
      ]
    },
    {
      "cell_type": "code",
      "execution_count": 114,
      "metadata": {
        "colab": {
          "base_uri": "https://localhost:8080/"
        },
        "id": "2juy29gzolhL",
        "outputId": "275b79da-eb17-42c8-b563-3b42f72f2403"
      },
      "outputs": [
        {
          "name": "stdout",
          "output_type": "stream",
          "text": [
            "y_labels.pickle has created!\n"
          ]
        }
      ],
      "source": [
        "Y = pd.get_dummies(labels)\n",
        "Y = Y.values\n",
        "\n",
        "with open('pickle/y_labels.pickle', 'wb') as handle:\n",
        "    pickle.dump(Y, handle, protocol=pickle.HIGHEST_PROTOCOL)\n",
        "    print(\"y_labels.pickle has created!\")"
      ]
    },
    {
      "cell_type": "markdown",
      "metadata": {
        "id": "ZH4fOpwHyxha"
      },
      "source": [
        "### **Prepare train & test datasets/Splitting Dataset**"
      ]
    },
    {
      "cell_type": "code",
      "execution_count": 115,
      "metadata": {
        "id": "uTSzdoZDoqkO"
      },
      "outputs": [],
      "source": [
        "file = open(\"pickle/x_pad_sequences.pickle\",'rb')\n",
        "X = pickle.load(file)\n",
        "file.close()\n",
        "\n",
        "file = open(\"pickle/y_labels.pickle\",'rb')\n",
        "Y = pickle.load(file)\n",
        "file.close()\n",
        "\n",
        "X_train, X_test, y_train, y_test = train_test_split(X, Y, test_size=0.2, random_state=1)"
      ]
    },
    {
      "cell_type": "markdown",
      "metadata": {
        "id": "SD9RIZcOy3lM"
      },
      "source": [
        "### **Training**"
      ]
    },
    {
      "cell_type": "code",
      "execution_count": 116,
      "metadata": {
        "colab": {
          "base_uri": "https://localhost:8080/"
        },
        "id": "_2rEczDro47J",
        "outputId": "28a4d7d7-6fe3-4646-82c2-c08cb021fe7c"
      },
      "outputs": [
        {
          "name": "stdout",
          "output_type": "stream",
          "text": [
            "Model: \"sequential_1\"\n",
            "_________________________________________________________________\n",
            " Layer (type)                Output Shape              Param #   \n",
            "=================================================================\n",
            " embedding_1 (Embedding)     (None, 68, 256)           25600000  \n",
            "                                                                 \n",
            " spatial_dropout1d_1 (Spatia  (None, 68, 256)          0         \n",
            " lDropout1D)                                                     \n",
            "                                                                 \n",
            " lstm_1 (LSTM)               (None, 32)                36992     \n",
            "                                                                 \n",
            " dense_1 (Dense)             (None, 3)                 99        \n",
            "                                                                 \n",
            "=================================================================\n",
            "Total params: 25,637,091\n",
            "Trainable params: 25,637,091\n",
            "Non-trainable params: 0\n",
            "_________________________________________________________________\n",
            "None\n",
            "Epoch 1/10\n",
            "35/35 [==============================] - 16s 396ms/step - loss: 0.9769 - accuracy: 0.5508 - val_loss: 0.7755 - val_accuracy: 0.6200\n",
            "Epoch 2/10\n",
            "35/35 [==============================] - 14s 399ms/step - loss: 0.7049 - accuracy: 0.6999 - val_loss: 0.6303 - val_accuracy: 0.7577\n",
            "Epoch 3/10\n",
            "35/35 [==============================] - 14s 402ms/step - loss: 0.6037 - accuracy: 0.7561 - val_loss: 0.5838 - val_accuracy: 0.7654\n",
            "Epoch 4/10\n",
            "35/35 [==============================] - 14s 404ms/step - loss: 0.5591 - accuracy: 0.7727 - val_loss: 0.5471 - val_accuracy: 0.7737\n",
            "Epoch 5/10\n",
            "35/35 [==============================] - 14s 408ms/step - loss: 0.5072 - accuracy: 0.7948 - val_loss: 0.5050 - val_accuracy: 0.7929\n",
            "Epoch 6/10\n",
            "35/35 [==============================] - 14s 404ms/step - loss: 0.4602 - accuracy: 0.8228 - val_loss: 0.4700 - val_accuracy: 0.8208\n",
            "Epoch 7/10\n",
            "35/35 [==============================] - 14s 405ms/step - loss: 0.4143 - accuracy: 0.8431 - val_loss: 0.4227 - val_accuracy: 0.8358\n",
            "Epoch 8/10\n",
            "35/35 [==============================] - 14s 411ms/step - loss: 0.3596 - accuracy: 0.8627 - val_loss: 0.4056 - val_accuracy: 0.8477\n",
            "Epoch 9/10\n",
            "35/35 [==============================] - 14s 401ms/step - loss: 0.3238 - accuracy: 0.8779 - val_loss: 0.3910 - val_accuracy: 0.8578\n",
            "Epoch 10/10\n",
            "35/35 [==============================] - 14s 408ms/step - loss: 0.2978 - accuracy: 0.8905 - val_loss: 0.3893 - val_accuracy: 0.8679\n"
          ]
        }
      ],
      "source": [
        "embed_dim = 256\n",
        "\n",
        "model = Sequential()\n",
        "model.add(Embedding(max_features, embed_dim, input_length= X.shape[1]))\n",
        "model.add(SpatialDropout1D(0.76))\n",
        "model.add(LSTM(32, dropout=0.77, recurrent_dropout=0.76))\n",
        "model.add(Dense(3, activation='softmax'))\n",
        "\n",
        "model.compile(optimizer='adam', loss='categorical_crossentropy', metrics=['accuracy'])\n",
        "print(model.summary())\n",
        "\n",
        "history = model.fit(X_train, y_train, epochs=10, batch_size=256, validation_data=(X_test, y_test), verbose=1, callbacks=None)"
      ]
    },
    {
      "cell_type": "code",
      "execution_count": 117,
      "metadata": {
        "colab": {
          "base_uri": "https://localhost:8080/"
        },
        "id": "ROcaRYqRqVf_",
        "outputId": "888ac484-879b-44e4-ec43-fce85dec41a6"
      },
      "outputs": [
        {
          "name": "stdout",
          "output_type": "stream",
          "text": [
            "69/69 [==============================] - 1s 8ms/step\n",
            "Testing selesai\n",
            "              precision    recall  f1-score   support\n",
            "\n",
            "           0       0.80      0.82      0.81       668\n",
            "           1       0.84      0.71      0.77       231\n",
            "           2       0.91      0.92      0.92      1288\n",
            "\n",
            "    accuracy                           0.87      2187\n",
            "   macro avg       0.85      0.82      0.83      2187\n",
            "weighted avg       0.87      0.87      0.87      2187\n",
            "\n"
          ]
        }
      ],
      "source": [
        "predictions = model.predict(X_test)\n",
        "y_pred = predictions\n",
        "matrix_test = metrics.classification_report(y_test.argmax(axis=1), y_pred.argmax(axis=1))\n",
        "print(\"Testing selesai\")\n",
        "print(matrix_test)"
      ]
    },
    {
      "cell_type": "code",
      "execution_count": 118,
      "metadata": {
        "colab": {
          "base_uri": "https://localhost:8080/"
        },
        "id": "8rwfzUriq1R1",
        "outputId": "51e7a977-9314-4e18-aadf-cdf4dba7a2a9"
      },
      "outputs": [
        {
          "name": "stdout",
          "output_type": "stream",
          "text": [
            "69/69 [==============================] - 1s 10ms/step\n",
            "Training ke- 1\n",
            "              precision    recall  f1-score   support\n",
            "\n",
            "           0       0.80      0.82      0.81       668\n",
            "           1       0.82      0.71      0.76       231\n",
            "           2       0.91      0.93      0.92      1288\n",
            "\n",
            "    accuracy                           0.87      2187\n",
            "   macro avg       0.85      0.82      0.83      2187\n",
            "weighted avg       0.87      0.87      0.87      2187\n",
            "\n",
            "======================================================\n",
            "69/69 [==============================] - 1s 8ms/step\n",
            "Training ke- 2\n",
            "              precision    recall  f1-score   support\n",
            "\n",
            "           0       0.81      0.81      0.81       668\n",
            "           1       0.81      0.74      0.77       231\n",
            "           2       0.91      0.92      0.92      1288\n",
            "\n",
            "    accuracy                           0.87      2187\n",
            "   macro avg       0.84      0.82      0.83      2187\n",
            "weighted avg       0.87      0.87      0.87      2187\n",
            "\n",
            "======================================================\n",
            "69/69 [==============================] - 1s 9ms/step\n",
            "Training ke- 3\n",
            "              precision    recall  f1-score   support\n",
            "\n",
            "           0       0.79      0.83      0.81       668\n",
            "           1       0.84      0.70      0.76       231\n",
            "           2       0.91      0.92      0.91      1288\n",
            "\n",
            "    accuracy                           0.87      2187\n",
            "   macro avg       0.85      0.81      0.83      2187\n",
            "weighted avg       0.87      0.87      0.87      2187\n",
            "\n",
            "======================================================\n",
            "69/69 [==============================] - 1s 15ms/step\n",
            "Training ke- 4\n",
            "              precision    recall  f1-score   support\n",
            "\n",
            "           0       0.80      0.82      0.81       668\n",
            "           1       0.83      0.76      0.79       231\n",
            "           2       0.92      0.91      0.91      1288\n",
            "\n",
            "    accuracy                           0.87      2187\n",
            "   macro avg       0.85      0.83      0.84      2187\n",
            "weighted avg       0.87      0.87      0.87      2187\n",
            "\n",
            "======================================================\n",
            "69/69 [==============================] - 1s 14ms/step\n",
            "Training ke- 5\n",
            "              precision    recall  f1-score   support\n",
            "\n",
            "           0       0.79      0.84      0.81       668\n",
            "           1       0.84      0.69      0.76       231\n",
            "           2       0.92      0.92      0.92      1288\n",
            "\n",
            "    accuracy                           0.87      2187\n",
            "   macro avg       0.85      0.82      0.83      2187\n",
            "weighted avg       0.87      0.87      0.87      2187\n",
            "\n",
            "======================================================\n",
            "\n",
            "\n",
            "\n",
            "Rata-rata Accuracy:  0.8682213077274806\n"
          ]
        }
      ],
      "source": [
        "kf = KFold(n_splits=5,random_state=42,shuffle=True)\n",
        "\n",
        "accuracies = []\n",
        "\n",
        "y = Y\n",
        "\n",
        "embed_dim = 256\n",
        "\n",
        "for iteration, data in enumerate(kf.split(X), start=1):\n",
        "\n",
        "    data_train   = X[data[0]]\n",
        "    target_train = y[data[0]]\n",
        "\n",
        "    data_test    = X[data[1]]\n",
        "    target_test  = y[data[1]]\n",
        "\n",
        "\n",
        "    model = Sequential()\n",
        "    model.add(Embedding(max_features, embed_dim, input_length= X.shape[1]))\n",
        "    model.add(SpatialDropout1D(0.76))\n",
        "    model.add(LSTM(32, dropout=0.77, recurrent_dropout=0.76))\n",
        "    model.add(Dense(3, activation='softmax'))\n",
        "\n",
        "    model.compile(optimizer='adam', loss='categorical_crossentropy', metrics=['accuracy'])\n",
        "\n",
        "    #es = EarlyStopping(monitor='val_loss', mode='min', verbose=0)\n",
        "    history = model.fit(X_train, y_train, epochs=10, batch_size=256, validation_data=(X_test, y_test), verbose=0, callbacks=None)\n",
        "\n",
        "    predictions = model.predict(X_test)\n",
        "    y_pred = predictions\n",
        "\n",
        "    # for the current fold only    \n",
        "    accuracy = accuracy_score(y_test.argmax(axis=1), y_pred.argmax(axis=1))\n",
        "\n",
        "    print(\"Training ke-\", iteration)\n",
        "    print(classification_report(y_test.argmax(axis=1), y_pred.argmax(axis=1)))\n",
        "    print(\"======================================================\")\n",
        "\n",
        "    accuracies.append(accuracy)\n",
        "\n",
        "# this is the average accuracy over all folds\n",
        "average_accuracy = np.mean(accuracies)\n",
        "\n",
        "print()\n",
        "print()\n",
        "print()\n",
        "print(\"Rata-rata Accuracy: \", average_accuracy)"
      ]
    },
    {
      "cell_type": "code",
      "execution_count": 119,
      "metadata": {
        "colab": {
          "base_uri": "https://localhost:8080/",
          "height": 337
        },
        "id": "Ng5hj5uV2jPY",
        "outputId": "2c1a6ad4-9180-4f89-aaa7-0c7c8120d777"
      },
      "outputs": [
        {
          "data": {
            "image/png": "[encoded data removed]",
            "text/plain": [
              "<Figure size 1200x500 with 2 Axes>"
            ]
          },
          "metadata": {},
          "output_type": "display_data"
        }
      ],
      "source": [
        "plt.style.use('ggplot')\n",
        "\n",
        "def plot_history(history):\n",
        "    acc = history.history['accuracy']\n",
        "    val_acc = history.history['val_accuracy']\n",
        "    loss = history.history['loss']\n",
        "    val_loss = history.history['val_loss']\n",
        "    x = range(1, len(acc) + 1)\n",
        "\n",
        "    plt.figure(figsize=(12, 5))\n",
        "    plt.subplot(1, 2, 1)\n",
        "    plt.plot(x, acc, 'b', label='Training acc')\n",
        "    plt.plot(x, val_acc, 'r', label='Validation acc')\n",
        "    plt.title('Training and validation accuracy')\n",
        "    plt.legend()\n",
        "    plt.subplot(1, 2, 2)\n",
        "    plt.plot(x, loss, 'b', label='Training loss')\n",
        "    plt.plot(x, val_loss, 'r', label='Validation loss')\n",
        "    plt.title('Training and validation loss')\n",
        "    plt.legend()\n",
        "\n",
        "%matplotlib inline\n",
        "plot_history(history)"
      ]
    },
    {
      "cell_type": "code",
      "execution_count": 120,
      "metadata": {
        "colab": {
          "base_uri": "https://localhost:8080/"
        },
        "id": "qYj11YfMxe0k",
        "outputId": "0fc934e2-7a80-4d2f-dbe4-ed8ddf7c457c"
      },
      "outputs": [
        {
          "name": "stdout",
          "output_type": "stream",
          "text": [
            "Model has created!\n"
          ]
        }
      ],
      "source": [
        "model.save('pickle/model.h5')\n",
        "print(\"Model has created!\")"
      ]
    },
    {
      "cell_type": "markdown",
      "metadata": {
        "id": "uR3YDHNq0XdP"
      },
      "source": [
        "### **Predict**"
      ]
    },
    {
      "cell_type": "code",
      "execution_count": 121,
      "metadata": {
        "colab": {
          "base_uri": "https://localhost:8080/"
        },
        "id": "tN0wUaTNwpaT",
        "outputId": "2f39a435-a89f-4909-99aa-df79ef741828"
      },
      "outputs": [
        {
          "name": "stdout",
          "output_type": "stream",
          "text": [
            "1/1 [==============================] - 0s 180ms/step\n",
            "Text:  bukti persahabatan sejati putra presiden dg putra presiden semoga abadi seabadi usia voucher\n",
            "Sentiment:  neutral\n"
          ]
        }
      ],
      "source": [
        "input_text = \"\"\"\n",
        "bukti persahabatan sejati putra presiden dg putra presiden semoga abadi seabadi usia voucher\n",
        "\"\"\"\n",
        "\n",
        "sentiment = ['negative', 'neutral', 'positive']\n",
        "\n",
        "text = Cleansing(input_text)\n",
        "text = [text]\n",
        "predicted = tokenizer.texts_to_sequences(text)\n",
        "guess = pad_sequences(predicted, maxlen=X.shape[1])\n",
        "\n",
        "model = load_model('model.h5')\n",
        "prediction = model.predict(guess)\n",
        "polarity = np.argmax(prediction[0])\n",
        "\n",
        "print(\"Text: \",text[0])\n",
        "print(\"Sentiment: \",sentiment[polarity])"
      ]
    },
    {
      "cell_type": "code",
      "execution_count": 122,
      "metadata": {},
      "outputs": [
        {
          "name": "stdout",
          "output_type": "stream",
          "text": [
            "1/1 [==============================] - 0s 200ms/step\n",
            "Text:  cinta memang buta memilih salah\n",
            "Sentiment:  positive\n"
          ]
        }
      ],
      "source": [
        "input_text = \"\"\"\n",
        "cinta memang buta memilih salah\n",
        "\"\"\"\n",
        "\n",
        "sentiment = ['negative', 'neutral', 'positive']\n",
        "\n",
        "text = Cleansing(input_text)\n",
        "text = [text]\n",
        "predicted = tokenizer.texts_to_sequences(text)\n",
        "guess = pad_sequences(predicted, maxlen=X.shape[1])\n",
        "\n",
        "model = load_model('model.h5')\n",
        "prediction = model.predict(guess)\n",
        "polarity = np.argmax(prediction[0])\n",
        "\n",
        "print(\"Text: \",text[0])\n",
        "print(\"Sentiment: \",sentiment[polarity])"
      ]
    },
    {
      "cell_type": "code",
      "execution_count": 123,
      "metadata": {},
      "outputs": [
        {
          "data": {
            "text/plain": [
              "array([0.36730888, 0.01744652, 0.6152446 ], dtype=float32)"
            ]
          },
          "execution_count": 123,
          "metadata": {},
          "output_type": "execute_result"
        }
      ],
      "source": [
        "prediction[0]"
      ]
    },
    {
      "cell_type": "code",
      "execution_count": 124,
      "metadata": {
        "colab": {
          "base_uri": "https://localhost:8080/",
          "height": 424
        },
        "id": "ncUypNEgjgPT",
        "outputId": "ecb0b97e-7871-4834-b78f-8fc4cd189a92"
      },
      "outputs": [
        {
          "name": "stdout",
          "output_type": "stream",
          "text": [
            "407/407 [==============================] - 5s 11ms/step\n"
          ]
        }
      ],
      "source": [
        "df_test['text'] = df_test.text.apply(Cleansing)\n",
        "temp = df_test.text.tolist()\n",
        "\n",
        "sentiment = ['negative', 'neutral', 'positive']\n",
        "\n",
        "predicted = tokenizer.texts_to_sequences(temp)\n",
        "guess = pad_sequences(predicted, maxlen=X.shape[1])\n",
        "\n",
        "model = load_model('model.h5')\n",
        "prediction = model.predict(guess)\n",
        "\n",
        "holder = [ ]\n",
        "for i in range(0,len(prediction)):\n",
        "    polarity = np.argmax(prediction[i])\n",
        "    holder.append(sentiment[polarity])\n"
      ]
    },
    {
      "cell_type": "code",
      "execution_count": 125,
      "metadata": {},
      "outputs": [
        {
          "data": {
            "text/html": [
              "<div>\n",
              "<style scoped>\n",
              "    .dataframe tbody tr th:only-of-type {\n",
              "        vertical-align: middle;\n",
              "    }\n",
              "\n",
              "    .dataframe tbody tr th {\n",
              "        vertical-align: top;\n",
              "    }\n",
              "\n",
              "    .dataframe thead th {\n",
              "        text-align: right;\n",
              "    }\n",
              "</style>\n",
              "<table border=\"1\" class=\"dataframe\">\n",
              "  <thead>\n",
              "    <tr style=\"text-align: right;\">\n",
              "      <th></th>\n",
              "      <th>text</th>\n",
              "      <th>sentiment</th>\n",
              "    </tr>\n",
              "  </thead>\n",
              "  <tbody>\n",
              "    <tr>\n",
              "      <th>0</th>\n",
              "      <td>disaat cowok berusaha melacak perhatian lantas...</td>\n",
              "      <td>negative</td>\n",
              "    </tr>\n",
              "    <tr>\n",
              "      <th>1</th>\n",
              "      <td>terlambat edan sarap bergaul ciga jifla calis ...</td>\n",
              "      <td>negative</td>\n",
              "    </tr>\n",
              "    <tr>\n",
              "      <th>2</th>\n",
              "      <td>41 kadang berfikir percaya tuhan jatuh berkali...</td>\n",
              "      <td>negative</td>\n",
              "    </tr>\n",
              "    <tr>\n",
              "      <th>3</th>\n",
              "      <td>nku matamu sipit diliat</td>\n",
              "      <td>negative</td>\n",
              "    </tr>\n",
              "    <tr>\n",
              "      <th>4</th>\n",
              "      <td>kaum cebong kapir dongoknya awal dongok hahahah</td>\n",
              "      <td>negative</td>\n",
              "    </tr>\n",
              "    <tr>\n",
              "      <th>...</th>\n",
              "      <td>...</td>\n",
              "      <td>...</td>\n",
              "    </tr>\n",
              "    <tr>\n",
              "      <th>13018</th>\n",
              "      <td>bicara ndasmu mulut sekate2 anjyng</td>\n",
              "      <td>negative</td>\n",
              "    </tr>\n",
              "    <tr>\n",
              "      <th>13019</th>\n",
              "      <td>kasur enak kunyuk</td>\n",
              "      <td>positive</td>\n",
              "    </tr>\n",
              "    <tr>\n",
              "      <th>13020</th>\n",
              "      <td>hati hati bisu g nlagi bosan mengeluh</td>\n",
              "      <td>negative</td>\n",
              "    </tr>\n",
              "    <tr>\n",
              "      <th>13021</th>\n",
              "      <td>bom real mudah terdeteksi bom terkubur dahsyat...</td>\n",
              "      <td>positive</td>\n",
              "    </tr>\n",
              "    <tr>\n",
              "      <th>13022</th>\n",
              "      <td>situ foto iya kutil onta</td>\n",
              "      <td>negative</td>\n",
              "    </tr>\n",
              "  </tbody>\n",
              "</table>\n",
              "<p>13023 rows × 2 columns</p>\n",
              "</div>"
            ],
            "text/plain": [
              "                                                    text sentiment\n",
              "0      disaat cowok berusaha melacak perhatian lantas...  negative\n",
              "1      terlambat edan sarap bergaul ciga jifla calis ...  negative\n",
              "2      41 kadang berfikir percaya tuhan jatuh berkali...  negative\n",
              "3                                nku matamu sipit diliat  negative\n",
              "4        kaum cebong kapir dongoknya awal dongok hahahah  negative\n",
              "...                                                  ...       ...\n",
              "13018                 bicara ndasmu mulut sekate2 anjyng  negative\n",
              "13019                                  kasur enak kunyuk  positive\n",
              "13020              hati hati bisu g nlagi bosan mengeluh  negative\n",
              "13021  bom real mudah terdeteksi bom terkubur dahsyat...  positive\n",
              "13022                           situ foto iya kutil onta  negative\n",
              "\n",
              "[13023 rows x 2 columns]"
            ]
          },
          "execution_count": 125,
          "metadata": {},
          "output_type": "execute_result"
        }
      ],
      "source": [
        "df_test['sentiment'] = holder\n",
        "df_test"
      ]
    },
    {
      "cell_type": "code",
      "execution_count": 126,
      "metadata": {
        "id": "f9EGULKYnxed"
      },
      "outputs": [],
      "source": [
        "neg = df_test.loc[df_test['sentiment'] == 'negative'].text.tolist()\n",
        "neu = df_test.loc[df_test['sentiment'] == 'neutral'].text.tolist()\n",
        "pos = df_test.loc[df_test['sentiment'] == 'positive'].text.tolist()"
      ]
    },
    {
      "cell_type": "code",
      "execution_count": 127,
      "metadata": {
        "colab": {
          "base_uri": "https://localhost:8080/"
        },
        "id": "8GHZR3oApFPT",
        "outputId": "bacd7f5d-6b4f-4c8f-b696-61f95cb66a6c"
      },
      "outputs": [
        {
          "name": "stdout",
          "output_type": "stream",
          "text": [
            "Pos: 760, Neu: 1327, Neg: 10936\n"
          ]
        }
      ],
      "source": [
        "print(\"Pos: %s, Neu: %s, Neg: %s\" % (len(pos), len(neu), len(neg)))"
      ]
    },
    {
      "cell_type": "code",
      "execution_count": 128,
      "metadata": {
        "colab": {
          "base_uri": "https://localhost:8080/"
        },
        "id": "IHrS4-o4tE3c",
        "outputId": "c7a3d942-ec14-4165-f527-15b89794adf8"
      },
      "outputs": [
        {
          "data": {
            "image/png": "[encoded data removed]",
            "text/plain": [
              "<Figure size 800x800 with 1 Axes>"
            ]
          },
          "metadata": {},
          "output_type": "display_data"
        }
      ],
      "source": [
        "df_test['sentiment'].value_counts().plot(kind='pie', autopct='%1.00f%%', figsize=(8,8), fontsize = 20)\n",
        "plt.title('Proporsi Label', fontsize=25)\n",
        "plt.show()"
      ]
    }
  ],
  "metadata": {
    "colab": {
      "provenance": []
    },
    "kernelspec": {
      "display_name": "Python 3",
      "language": "python",
      "name": "python3"
    },
    "language_info": {
      "codemirror_mode": {
        "name": "ipython",
        "version": 3
      },
      "file_extension": ".py",
      "mimetype": "text/x-python",
      "name": "python",
      "nbconvert_exporter": "python",
      "pygments_lexer": "ipython3",
      "version": "3.10.7 (tags/v3.10.7:6cc6b13, Sep  5 2022, 14:08:36) [MSC v.1933 64 bit (AMD64)]"
    },
    "vscode": {
      "interpreter": {
        "hash": "c3cb1dd373ca4450157e6f8978f97933cc3a7cdc0a8066204e60afd9526c388d"
      }
    }
  },
  "nbformat": 4,
  "nbformat_minor": 0
}
