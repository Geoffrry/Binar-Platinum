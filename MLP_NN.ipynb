{
  "cells": [
    {
      "cell_type": "markdown",
      "metadata": {
        "id": "AV-66_v24-KX"
      },
      "source": [
        "## **1. Import Library**"
      ]
    },
    {
      "cell_type": "code",
      "execution_count": 11,
      "metadata": {
        "id": "IrqIG4nQ5Mzo"
      },
      "outputs": [],
      "source": [
        "# Library for Dataset Preparation, Processing, and Visualization\n",
        "import pandas as pd\n",
        "import json\n",
        "import numpy as np\n",
        "import re\n",
        "import matplotlib.pyplot as plt\n",
        "import seaborn as sn\n",
        "\n",
        "# Library for Machine Learning Model\n",
        "from sklearn.model_selection import train_test_split\n",
        "from sklearn.feature_extraction.text import CountVectorizer, TfidfVectorizer\n",
        "from sklearn.neural_network import MLPClassifier\n",
        "\n",
        "# Pickle\n",
        "import pickle\n",
        "\n",
        "# Testing and Cross Validation\n",
        "from sklearn.metrics import classification_report\n",
        "from sklearn.metrics import accuracy_score\n",
        "from sklearn.model_selection import KFold\n",
        "\n"
      ]
    },
    {
      "cell_type": "markdown",
      "metadata": {
        "id": "ji2M-rIqCVnT"
      },
      "source": [
        "## **2. Import Dataset**"
      ]
    },
    {
      "cell_type": "markdown",
      "metadata": {
        "id": "iZFOdnuCCz4C"
      },
      "source": [
        "Semua dataset yang digunakan dapat diunduh [disini](https://drive.google.com/drive/folders/1arQb-Z-5PSMG1JAR_-dvyq0xpnZZAFKe?usp=sharing)"
      ]
    },
    {
      "cell_type": "markdown",
      "metadata": {
        "id": "6zWU8juyKAYt"
      },
      "source": [
        "### **1.   Train Dataset (train_preprocesses.tsv)**\n",
        "\n",
        "  Dataset yang berisi kumpulan teks tweet yang sudah dilabeli untuk keperluan pembentukan model machine learning serta validasi. Label yang digunakan adalah 'positive', 'negative', dan 'neutral'."
      ]
    },
    {
      "cell_type": "code",
      "execution_count": 12,
      "metadata": {
        "colab": {
          "base_uri": "https://localhost:8080/",
          "height": 206
        },
        "id": "4N7-p0MiKWhv",
        "outputId": "75f954a6-1eb2-4617-9d9a-5122acf1402b"
      },
      "outputs": [
        {
          "data": {
            "text/html": [
              "<div>\n",
              "<style scoped>\n",
              "    .dataframe tbody tr th:only-of-type {\n",
              "        vertical-align: middle;\n",
              "    }\n",
              "\n",
              "    .dataframe tbody tr th {\n",
              "        vertical-align: top;\n",
              "    }\n",
              "\n",
              "    .dataframe thead th {\n",
              "        text-align: right;\n",
              "    }\n",
              "</style>\n",
              "<table border=\"1\" class=\"dataframe\">\n",
              "  <thead>\n",
              "    <tr style=\"text-align: right;\">\n",
              "      <th></th>\n",
              "      <th>text</th>\n",
              "      <th>label</th>\n",
              "    </tr>\n",
              "  </thead>\n",
              "  <tbody>\n",
              "    <tr>\n",
              "      <th>0</th>\n",
              "      <td>warung ini dimiliki oleh pengusaha pabrik tahu...</td>\n",
              "      <td>positive</td>\n",
              "    </tr>\n",
              "    <tr>\n",
              "      <th>1</th>\n",
              "      <td>mohon ulama lurus dan k212 mmbri hujjah partai...</td>\n",
              "      <td>neutral</td>\n",
              "    </tr>\n",
              "    <tr>\n",
              "      <th>2</th>\n",
              "      <td>lokasi strategis di jalan sumatera bandung . t...</td>\n",
              "      <td>positive</td>\n",
              "    </tr>\n",
              "    <tr>\n",
              "      <th>3</th>\n",
              "      <td>betapa bahagia nya diri ini saat unboxing pake...</td>\n",
              "      <td>positive</td>\n",
              "    </tr>\n",
              "    <tr>\n",
              "      <th>4</th>\n",
              "      <td>duh . jadi mahasiswa jangan sombong dong . kas...</td>\n",
              "      <td>negative</td>\n",
              "    </tr>\n",
              "  </tbody>\n",
              "</table>\n",
              "</div>"
            ],
            "text/plain": [
              "                                                text     label\n",
              "0  warung ini dimiliki oleh pengusaha pabrik tahu...  positive\n",
              "1  mohon ulama lurus dan k212 mmbri hujjah partai...   neutral\n",
              "2  lokasi strategis di jalan sumatera bandung . t...  positive\n",
              "3  betapa bahagia nya diri ini saat unboxing pake...  positive\n",
              "4  duh . jadi mahasiswa jangan sombong dong . kas...  negative"
            ]
          },
          "execution_count": 12,
          "metadata": {},
          "output_type": "execute_result"
        }
      ],
      "source": [
        "df_train = pd.read_csv('dataset/train_preprocess.tsv', sep='\\t', names=['text', 'label'])\n",
        "df_train.head()"
      ]
    },
    {
      "cell_type": "markdown",
      "metadata": {
        "id": "1ItsbkBkKM5f"
      },
      "source": [
        "### **2.   Test Dataset (data.csv)**\n",
        "\n",
        "  Dataset yang berisi kumpulan teks tweet yang belum dilabeli untuk menguji model machine learning yang telah dibuat."
      ]
    },
    {
      "cell_type": "code",
      "execution_count": 13,
      "metadata": {
        "colab": {
          "base_uri": "https://localhost:8080/",
          "height": 206
        },
        "id": "nHp-FDxpKx9W",
        "outputId": "a42f01af-f757-4fe3-f077-946a4fa462f9"
      },
      "outputs": [
        {
          "data": {
            "text/html": [
              "<div>\n",
              "<style scoped>\n",
              "    .dataframe tbody tr th:only-of-type {\n",
              "        vertical-align: middle;\n",
              "    }\n",
              "\n",
              "    .dataframe tbody tr th {\n",
              "        vertical-align: top;\n",
              "    }\n",
              "\n",
              "    .dataframe thead th {\n",
              "        text-align: right;\n",
              "    }\n",
              "</style>\n",
              "<table border=\"1\" class=\"dataframe\">\n",
              "  <thead>\n",
              "    <tr style=\"text-align: right;\">\n",
              "      <th></th>\n",
              "      <th>text</th>\n",
              "    </tr>\n",
              "  </thead>\n",
              "  <tbody>\n",
              "    <tr>\n",
              "      <th>0</th>\n",
              "      <td>- disaat semua cowok berusaha melacak perhatia...</td>\n",
              "    </tr>\n",
              "    <tr>\n",
              "      <th>1</th>\n",
              "      <td>RT USER: USER siapa yang telat ngasih tau elu?...</td>\n",
              "    </tr>\n",
              "    <tr>\n",
              "      <th>2</th>\n",
              "      <td>41. Kadang aku berfikir, kenapa aku tetap perc...</td>\n",
              "    </tr>\n",
              "    <tr>\n",
              "      <th>3</th>\n",
              "      <td>USER USER AKU ITU AKU\\n\\nKU TAU MATAMU SIPIT T...</td>\n",
              "    </tr>\n",
              "    <tr>\n",
              "      <th>4</th>\n",
              "      <td>USER USER Kaum cebong kapir udah keliatan dong...</td>\n",
              "    </tr>\n",
              "  </tbody>\n",
              "</table>\n",
              "</div>"
            ],
            "text/plain": [
              "                                                text\n",
              "0  - disaat semua cowok berusaha melacak perhatia...\n",
              "1  RT USER: USER siapa yang telat ngasih tau elu?...\n",
              "2  41. Kadang aku berfikir, kenapa aku tetap perc...\n",
              "3  USER USER AKU ITU AKU\\n\\nKU TAU MATAMU SIPIT T...\n",
              "4  USER USER Kaum cebong kapir udah keliatan dong..."
            ]
          },
          "execution_count": 13,
          "metadata": {},
          "output_type": "execute_result"
        }
      ],
      "source": [
        "df_test = pd.read_csv('dataset/data.csv', encoding='latin-1')\n",
        "df_test = df_test[['Tweet']]\n",
        "df_test = df_test.rename(columns = {'Tweet' :'text'})\n",
        "df_test['text'].astype(str)\n",
        "df_test.head()"
      ]
    },
    {
      "cell_type": "markdown",
      "metadata": {
        "id": "Zte7S9ZNKAhr"
      },
      "source": [
        "### **3.   Slangword Dataset (combined_slang_words.json)**\n",
        "\n",
        "  Dataset yang berisi kumpulan kata yang tidak baku (slang) yang sudah dipasangkan dengan kata bakunya (normal). Dataset ini digunakan untuk menormalisasi teks pada Tweet."
      ]
    },
    {
      "cell_type": "code",
      "execution_count": 14,
      "metadata": {
        "colab": {
          "base_uri": "https://localhost:8080/",
          "height": 206
        },
        "id": "SiBn1Ua-K6mM",
        "outputId": "6afbfcba-66b6-4f4d-e45f-475b8db23116"
      },
      "outputs": [
        {
          "data": {
            "text/html": [
              "<div>\n",
              "<style scoped>\n",
              "    .dataframe tbody tr th:only-of-type {\n",
              "        vertical-align: middle;\n",
              "    }\n",
              "\n",
              "    .dataframe tbody tr th {\n",
              "        vertical-align: top;\n",
              "    }\n",
              "\n",
              "    .dataframe thead th {\n",
              "        text-align: right;\n",
              "    }\n",
              "</style>\n",
              "<table border=\"1\" class=\"dataframe\">\n",
              "  <thead>\n",
              "    <tr style=\"text-align: right;\">\n",
              "      <th></th>\n",
              "      <th>slang</th>\n",
              "      <th>normal</th>\n",
              "    </tr>\n",
              "  </thead>\n",
              "  <tbody>\n",
              "    <tr>\n",
              "      <th>0</th>\n",
              "      <td>@</td>\n",
              "      <td>di</td>\n",
              "    </tr>\n",
              "    <tr>\n",
              "      <th>1</th>\n",
              "      <td>abis</td>\n",
              "      <td>habis</td>\n",
              "    </tr>\n",
              "    <tr>\n",
              "      <th>2</th>\n",
              "      <td>ad</td>\n",
              "      <td>ada</td>\n",
              "    </tr>\n",
              "    <tr>\n",
              "      <th>3</th>\n",
              "      <td>adlh</td>\n",
              "      <td>adalah</td>\n",
              "    </tr>\n",
              "    <tr>\n",
              "      <th>4</th>\n",
              "      <td>afaik</td>\n",
              "      <td>as far as i know</td>\n",
              "    </tr>\n",
              "  </tbody>\n",
              "</table>\n",
              "</div>"
            ],
            "text/plain": [
              "   slang            normal\n",
              "0      @                di\n",
              "1   abis             habis\n",
              "2     ad               ada\n",
              "3   adlh            adalah\n",
              "4  afaik  as far as i know"
            ]
          },
          "execution_count": 14,
          "metadata": {},
          "output_type": "execute_result"
        }
      ],
      "source": [
        "with open('dataset/combined_slang_words.json') as f:\n",
        "    jsonstr = json.load(f)\n",
        "df_slang = pd.DataFrame(list(jsonstr.items()),columns = ['slang','normal']) \n",
        "\n",
        "df_slang.head()"
      ]
    },
    {
      "cell_type": "markdown",
      "metadata": {
        "id": "m93X7MkIKAxY"
      },
      "source": [
        "### **4.   Stopword Dataset (combined_stop_words.csv)**\n",
        "\n",
        "  Dataset yang berisi stopwords yng merupakan kumpulan kata umum yang sering dipakai dalam kalimat, namun tidak memiliki makna yang signifikan. Dataset ini digunakan untuk menghilangkan stopwords pada Tweet."
      ]
    },
    {
      "cell_type": "code",
      "execution_count": 15,
      "metadata": {
        "colab": {
          "base_uri": "https://localhost:8080/",
          "height": 206
        },
        "id": "c_ljsSLlLBQU",
        "outputId": "07117593-6dbd-4139-e913-aec784280f1a"
      },
      "outputs": [
        {
          "data": {
            "text/html": [
              "<div>\n",
              "<style scoped>\n",
              "    .dataframe tbody tr th:only-of-type {\n",
              "        vertical-align: middle;\n",
              "    }\n",
              "\n",
              "    .dataframe tbody tr th {\n",
              "        vertical-align: top;\n",
              "    }\n",
              "\n",
              "    .dataframe thead th {\n",
              "        text-align: right;\n",
              "    }\n",
              "</style>\n",
              "<table border=\"1\" class=\"dataframe\">\n",
              "  <thead>\n",
              "    <tr style=\"text-align: right;\">\n",
              "      <th></th>\n",
              "      <th>0</th>\n",
              "    </tr>\n",
              "  </thead>\n",
              "  <tbody>\n",
              "    <tr>\n",
              "      <th>0</th>\n",
              "      <td>adalah</td>\n",
              "    </tr>\n",
              "    <tr>\n",
              "      <th>1</th>\n",
              "      <td>adapun</td>\n",
              "    </tr>\n",
              "    <tr>\n",
              "      <th>2</th>\n",
              "      <td>agaknya</td>\n",
              "    </tr>\n",
              "    <tr>\n",
              "      <th>3</th>\n",
              "      <td>akan</td>\n",
              "    </tr>\n",
              "    <tr>\n",
              "      <th>4</th>\n",
              "      <td>akhir</td>\n",
              "    </tr>\n",
              "  </tbody>\n",
              "</table>\n",
              "</div>"
            ],
            "text/plain": [
              "         0\n",
              "0   adalah\n",
              "1   adapun\n",
              "2  agaknya\n",
              "3     akan\n",
              "4    akhir"
            ]
          },
          "execution_count": 15,
          "metadata": {},
          "output_type": "execute_result"
        }
      ],
      "source": [
        "df_stop = pd.read_csv('dataset/combined_stop_words.csv', encoding = 'latin-1', header = None)\n",
        "df_stop.head()"
      ]
    },
    {
      "cell_type": "markdown",
      "metadata": {
        "id": "BwHCSoY8LKh5"
      },
      "source": [
        "## **3. Data Pre-Processing**"
      ]
    },
    {
      "cell_type": "markdown",
      "metadata": {
        "id": "t8la8WtVLnUX"
      },
      "source": [
        "### **1. Null Values**"
      ]
    },
    {
      "cell_type": "code",
      "execution_count": 16,
      "metadata": {
        "colab": {
          "base_uri": "https://localhost:8080/"
        },
        "id": "_wtB18VwLJ9c",
        "outputId": "7ae82e4f-3d51-4236-98b2-299d6e039929"
      },
      "outputs": [
        {
          "name": "stdout",
          "output_type": "stream",
          "text": [
            "-------------------------------\n",
            "Training dataset Null Values :\n",
            "text     0\n",
            "label    0\n",
            "dtype: int64\n",
            "-------------------------------\n",
            "Test dataset Null Values :\n",
            "text    0\n",
            "dtype: int64\n",
            "-------------------------------\n"
          ]
        }
      ],
      "source": [
        "print('-------------------------------')\n",
        "print('Training dataset Null Values :')\n",
        "print(df_train.isnull().sum())\n",
        "print('-------------------------------')\n",
        "\n",
        "print('Test dataset Null Values :')\n",
        "print(df_test.isnull().sum())\n",
        "print('-------------------------------')"
      ]
    },
    {
      "cell_type": "markdown",
      "metadata": {
        "id": "OAMAre1oMPPw"
      },
      "source": [
        "Tidak ada null values baik pada training dataset maupun pada test dataset"
      ]
    },
    {
      "cell_type": "markdown",
      "metadata": {
        "id": "wek6M6wIMYzA"
      },
      "source": [
        "### **2. Duplicated Values**"
      ]
    },
    {
      "cell_type": "code",
      "execution_count": 17,
      "metadata": {
        "colab": {
          "base_uri": "https://localhost:8080/"
        },
        "id": "xTXsroHEMYHk",
        "outputId": "9377884e-6dec-4b00-8fdb-357062914632"
      },
      "outputs": [
        {
          "name": "stdout",
          "output_type": "stream",
          "text": [
            "Training dataset duplicated Values : 67\n",
            "\n",
            "Test dataset duplicated Values : 146\n"
          ]
        }
      ],
      "source": [
        "print('Training dataset duplicated Values :', df_train.duplicated().sum())\n",
        "print()\n",
        "print('Test dataset duplicated Values :', df_test.duplicated().sum())"
      ]
    },
    {
      "cell_type": "markdown",
      "metadata": {
        "id": "zGswRQCpM04B"
      },
      "source": [
        "Duplicated value dalam dataset perlu dibuang terlebih dahulu"
      ]
    },
    {
      "cell_type": "code",
      "execution_count": 18,
      "metadata": {
        "colab": {
          "base_uri": "https://localhost:8080/"
        },
        "id": "S6PsdmKXL9Au",
        "outputId": "7762d4e8-efeb-4645-f728-5d37270ced7b"
      },
      "outputs": [
        {
          "name": "stdout",
          "output_type": "stream",
          "text": [
            "Jumlah Duplicated Values pada Training Dataset setelah dibersihkan : 0\n",
            "\n",
            "Jumlah Duplicated Values pada Test Dataset setelah dibersihkan : 0\n"
          ]
        }
      ],
      "source": [
        "df_train.drop_duplicates(inplace = True, ignore_index= True)\n",
        "print('Jumlah Duplicated Values pada Training Dataset setelah dibersihkan :', df_train.duplicated().sum())\n",
        "\n",
        "print()\n",
        "\n",
        "df_test.drop_duplicates(inplace = True, ignore_index = True)\n",
        "print('Jumlah Duplicated Values pada Test Dataset setelah dibersihkan :', df_test.duplicated().sum())\n"
      ]
    },
    {
      "cell_type": "markdown",
      "metadata": {
        "id": "srK9-LAtN_8c"
      },
      "source": [
        "### **3. Data Cleansing (Regrex, Slangwords, Stopwords)**"
      ]
    },
    {
      "cell_type": "markdown",
      "metadata": {
        "id": "DfnG16m5OMW8"
      },
      "source": [
        "Untuk mempermudah cleansing, maka dibuat satu fungsi yang dapat melakukan text cleansing terhadap tweet pada kolom teks, yaitu sebagai berikut:"
      ]
    },
    {
      "cell_type": "code",
      "execution_count": 19,
      "metadata": {
        "id": "iOwST4hRNp2c"
      },
      "outputs": [],
      "source": [
        "def Cleansing(text):\n",
        "    \n",
        "    # Regrex\n",
        "    text = text.lower() # membuat semua huruf menjadi lowercase\n",
        "    text = text.strip() # menghapus spasi pada awal dan akhir kalimat\n",
        "    text = re.sub('\\n', ' ', text) # menghilangkan new line\n",
        "    text = re.sub('x[a-z0-9]{,2}',' ', text) # menghilangkan rawstring emoji\n",
        "    text = re.sub('user', ' ', text) # menghilangkan mention USER tertentu\n",
        "    text = re.sub('url', ' ', text) # menghilangkan teks 'url' pada teks\n",
        "    text = re.sub('http\\S+', '', text) # menghilangkan url\n",
        "    text = re.sub('[^0-9a-zA-Z]+', ' ', text) # menghilangkan non-alpha numerik\n",
        "    text = re.sub('( rt )|(rt )', ' ', text) # menghilangkan retweet\n",
        "    text = re.sub('  +', ' ', text) # Menghilangkan spasi berlebih\n",
        "\n",
        "    # Slangwords Normalization\n",
        "    Slang_dict = dict(zip(df_slang['slang'], df_slang['normal']))  # Membuat dataframe slang menjadi dict\n",
        "    holder = [] # variabel list untuk menyimpan kata slang yang sudah dinormalkan\n",
        "    \n",
        "    #pengulangan untuk mengubah word slang menjadi word yang sesuai pada dict\n",
        "    for word in text.split(' '): \n",
        "        \n",
        "        if word in Slang_dict.keys(): \n",
        "            word = Slang_dict[word] # mengubah kata slang menjadi kata yang sesuai pada dict\n",
        "            holder.append(word) # simpan kata slang yang sudah normal ke variabel holder\n",
        "        else :\n",
        "            holder.append(word) \n",
        "            \n",
        "    text = ' '.join(holder) # mengembalikan satu kalimat yang sudah digabungkan dari list huruf pada holder\n",
        "\n",
        "    # Stopwords Removal\n",
        "    holder = []\n",
        "      \n",
        "    for words in text.split(' '):\n",
        "        if words in df_stop[0].values:\n",
        "          holder.append(' ')\n",
        "        else:\n",
        "          holder.append(words)\n",
        "\n",
        "    text = ' '.join(holder)\n",
        "    text = re.sub(' +', ' ', text) # menghilangkan spasi berlebih\n",
        "    text = text.strip() # menghilangkan whitespace pada awal dan akhir string\n",
        "\n",
        "    return text\n",
        "    "
      ]
    },
    {
      "attachments": {},
      "cell_type": "markdown",
      "metadata": {
        "id": "hf0iTJvDOtGE"
      },
      "source": [
        "Fungsi yang telah dibuat kemudian dapat digunakan pada dataset train dan test :"
      ]
    },
    {
      "cell_type": "code",
      "execution_count": 20,
      "metadata": {
        "colab": {
          "base_uri": "https://localhost:8080/",
          "height": 206
        },
        "id": "ghwjObeaOmhi",
        "outputId": "56899ad4-c7ae-487e-eecc-840fca94c16d"
      },
      "outputs": [
        {
          "data": {
            "text/html": [
              "<div>\n",
              "<style scoped>\n",
              "    .dataframe tbody tr th:only-of-type {\n",
              "        vertical-align: middle;\n",
              "    }\n",
              "\n",
              "    .dataframe tbody tr th {\n",
              "        vertical-align: top;\n",
              "    }\n",
              "\n",
              "    .dataframe thead th {\n",
              "        text-align: right;\n",
              "    }\n",
              "</style>\n",
              "<table border=\"1\" class=\"dataframe\">\n",
              "  <thead>\n",
              "    <tr style=\"text-align: right;\">\n",
              "      <th></th>\n",
              "      <th>text</th>\n",
              "      <th>label</th>\n",
              "      <th>text_clean</th>\n",
              "    </tr>\n",
              "  </thead>\n",
              "  <tbody>\n",
              "    <tr>\n",
              "      <th>0</th>\n",
              "      <td>warung ini dimiliki oleh pengusaha pabrik tahu...</td>\n",
              "      <td>positive</td>\n",
              "      <td>warung dimiliki pengusaha pabrik puluhan terke...</td>\n",
              "    </tr>\n",
              "    <tr>\n",
              "      <th>1</th>\n",
              "      <td>mohon ulama lurus dan k212 mmbri hujjah partai...</td>\n",
              "      <td>neutral</td>\n",
              "      <td>mohon ulama lurus k212 mmbri hujjah partai diw...</td>\n",
              "    </tr>\n",
              "    <tr>\n",
              "      <th>2</th>\n",
              "      <td>lokasi strategis di jalan sumatera bandung . t...</td>\n",
              "      <td>positive</td>\n",
              "      <td>lokasi strategis jalan sumatera bandung nyaman...</td>\n",
              "    </tr>\n",
              "    <tr>\n",
              "      <th>3</th>\n",
              "      <td>betapa bahagia nya diri ini saat unboxing pake...</td>\n",
              "      <td>positive</td>\n",
              "      <td>betapa bahagia unbo g paket barang bagus menet...</td>\n",
              "    </tr>\n",
              "    <tr>\n",
              "      <th>4</th>\n",
              "      <td>duh . jadi mahasiswa jangan sombong dong . kas...</td>\n",
              "      <td>negative</td>\n",
              "      <td>aduh mahasiswa sombong kasih kartu kuning bela...</td>\n",
              "    </tr>\n",
              "  </tbody>\n",
              "</table>\n",
              "</div>"
            ],
            "text/plain": [
              "                                                text     label  \\\n",
              "0  warung ini dimiliki oleh pengusaha pabrik tahu...  positive   \n",
              "1  mohon ulama lurus dan k212 mmbri hujjah partai...   neutral   \n",
              "2  lokasi strategis di jalan sumatera bandung . t...  positive   \n",
              "3  betapa bahagia nya diri ini saat unboxing pake...  positive   \n",
              "4  duh . jadi mahasiswa jangan sombong dong . kas...  negative   \n",
              "\n",
              "                                          text_clean  \n",
              "0  warung dimiliki pengusaha pabrik puluhan terke...  \n",
              "1  mohon ulama lurus k212 mmbri hujjah partai diw...  \n",
              "2  lokasi strategis jalan sumatera bandung nyaman...  \n",
              "3  betapa bahagia unbo g paket barang bagus menet...  \n",
              "4  aduh mahasiswa sombong kasih kartu kuning bela...  "
            ]
          },
          "execution_count": 20,
          "metadata": {},
          "output_type": "execute_result"
        }
      ],
      "source": [
        "df_train['text_clean'] = df_train['text'].apply(lambda x : Cleansing(x))\n",
        "df_train.head()"
      ]
    },
    {
      "cell_type": "code",
      "execution_count": 21,
      "metadata": {
        "colab": {
          "base_uri": "https://localhost:8080/",
          "height": 206
        },
        "id": "fR8YHj6-OxQI",
        "outputId": "fb4fd9c6-9a40-47b3-868a-ff6304fb18d7"
      },
      "outputs": [
        {
          "data": {
            "text/html": [
              "<div>\n",
              "<style scoped>\n",
              "    .dataframe tbody tr th:only-of-type {\n",
              "        vertical-align: middle;\n",
              "    }\n",
              "\n",
              "    .dataframe tbody tr th {\n",
              "        vertical-align: top;\n",
              "    }\n",
              "\n",
              "    .dataframe thead th {\n",
              "        text-align: right;\n",
              "    }\n",
              "</style>\n",
              "<table border=\"1\" class=\"dataframe\">\n",
              "  <thead>\n",
              "    <tr style=\"text-align: right;\">\n",
              "      <th></th>\n",
              "      <th>text</th>\n",
              "      <th>text_clean</th>\n",
              "    </tr>\n",
              "  </thead>\n",
              "  <tbody>\n",
              "    <tr>\n",
              "      <th>0</th>\n",
              "      <td>- disaat semua cowok berusaha melacak perhatia...</td>\n",
              "      <td>disaat cowok berusaha melacak perhatian lantas...</td>\n",
              "    </tr>\n",
              "    <tr>\n",
              "      <th>1</th>\n",
              "      <td>RT USER: USER siapa yang telat ngasih tau elu?...</td>\n",
              "      <td>terlambat edan sarap bergaul ciga jifla calis ...</td>\n",
              "    </tr>\n",
              "    <tr>\n",
              "      <th>2</th>\n",
              "      <td>41. Kadang aku berfikir, kenapa aku tetap perc...</td>\n",
              "      <td>41 kadang berfikir percaya tuhan jatuh berkali...</td>\n",
              "    </tr>\n",
              "    <tr>\n",
              "      <th>3</th>\n",
              "      <td>USER USER AKU ITU AKU\\n\\nKU TAU MATAMU SIPIT T...</td>\n",
              "      <td>nku matamu sipit diliat</td>\n",
              "    </tr>\n",
              "    <tr>\n",
              "      <th>4</th>\n",
              "      <td>USER USER Kaum cebong kapir udah keliatan dong...</td>\n",
              "      <td>kaum cebong kapir dongoknya awal dongok hahahah</td>\n",
              "    </tr>\n",
              "  </tbody>\n",
              "</table>\n",
              "</div>"
            ],
            "text/plain": [
              "                                                text  \\\n",
              "0  - disaat semua cowok berusaha melacak perhatia...   \n",
              "1  RT USER: USER siapa yang telat ngasih tau elu?...   \n",
              "2  41. Kadang aku berfikir, kenapa aku tetap perc...   \n",
              "3  USER USER AKU ITU AKU\\n\\nKU TAU MATAMU SIPIT T...   \n",
              "4  USER USER Kaum cebong kapir udah keliatan dong...   \n",
              "\n",
              "                                          text_clean  \n",
              "0  disaat cowok berusaha melacak perhatian lantas...  \n",
              "1  terlambat edan sarap bergaul ciga jifla calis ...  \n",
              "2  41 kadang berfikir percaya tuhan jatuh berkali...  \n",
              "3                            nku matamu sipit diliat  \n",
              "4    kaum cebong kapir dongoknya awal dongok hahahah  "
            ]
          },
          "execution_count": 21,
          "metadata": {},
          "output_type": "execute_result"
        }
      ],
      "source": [
        "df_test['text_clean'] = df_test['text'].apply(lambda x : Cleansing(x))\n",
        "df_test.head()"
      ]
    },
    {
      "cell_type": "markdown",
      "metadata": {
        "id": "k4OXRIwWPSkt"
      },
      "source": [
        "## **4. Visualization**"
      ]
    },
    {
      "cell_type": "markdown",
      "metadata": {
        "id": "ZHos4rXPPnq0"
      },
      "source": [
        "Pie Chart dapat digunakan untuk melihat proporsi dari masing-masing label pada Training Dataset"
      ]
    },
    {
      "cell_type": "code",
      "execution_count": 22,
      "metadata": {
        "colab": {
          "base_uri": "https://localhost:8080/",
          "height": 491
        },
        "id": "RufHYWL7PdhK",
        "outputId": "8894a2e6-5e58-446f-fbeb-6c0c2df8f237"
      },
      "outputs": [
        {
          "data": {
            "image/png": "[encoded data removed]",
            "text/plain": [
              "<Figure size 800x800 with 1 Axes>"
            ]
          },
          "metadata": {},
          "output_type": "display_data"
        }
      ],
      "source": [
        "df_train['label'].value_counts().plot(kind='pie', autopct='%1.0f%%', figsize=(8,8), fontsize=20)\n",
        "plt.title('Proporsi Label', fontsize=25)\n",
        "plt.show()"
      ]
    },
    {
      "cell_type": "markdown",
      "metadata": {
        "id": "NJwdNop3QV6Q"
      },
      "source": [
        "Persebaran jumlah karakter dan kata kemudian dapat divisualisasikan menggunakan histogram"
      ]
    },
    {
      "cell_type": "code",
      "execution_count": 23,
      "metadata": {
        "colab": {
          "base_uri": "https://localhost:8080/",
          "height": 540
        },
        "id": "CvG3BFPsPhlv",
        "outputId": "1b29990c-8f33-4a1e-c0e3-d9423b23417b"
      },
      "outputs": [
        {
          "data": {
            "image/png": "[encoded data removed]",
            "text/plain": [
              "<Figure size 1000x800 with 2 Axes>"
            ]
          },
          "metadata": {},
          "output_type": "display_data"
        }
      ],
      "source": [
        "# Membuat kolom total char\n",
        "df_train['total char'] = df_train['text'].apply(lambda x : len(x))\n",
        "\n",
        "# Membuat kolom total word\n",
        "df_train['total word'] = df_train['text'].apply(lambda x : len(x.split()))\n",
        "\n",
        "# Histogram Total Char and Total Word\n",
        "fig, ax = plt.subplots(1,2, figsize=(10,8))\n",
        "fig.suptitle('Persebaran Tweet', fontsize= 25)\n",
        "\n",
        "\n",
        "df_train['total char'].hist(ax = ax[0])\n",
        "ax[0].set_title('Total Char', fontsize= 20)\n",
        "df_train['total word'].hist(ax = ax[1])\n",
        "ax[1].set_title('Total Word', fontsize= 20)\n",
        "\n",
        "plt.show()"
      ]
    },
    {
      "cell_type": "markdown",
      "metadata": {
        "id": "TsZftl43V16K"
      },
      "source": [
        "## **5. Feature Extraction**"
      ]
    },
    {
      "cell_type": "markdown",
      "metadata": {
        "id": "CZ_lqlxxWtMh"
      },
      "source": [
        "Untuk mempermudah penulisan kode, maka data teks dan label disimpan dalam variabel "
      ]
    },
    {
      "cell_type": "code",
      "execution_count": 24,
      "metadata": {
        "id": "fwOsg0BXV9C-"
      },
      "outputs": [],
      "source": [
        "data_preprocessed = df_train['text_clean'].tolist()\n",
        "classes = df_train['label']"
      ]
    },
    {
      "cell_type": "code",
      "execution_count": 25,
      "metadata": {
        "colab": {
          "base_uri": "https://localhost:8080/"
        },
        "id": "WTh9u63WWkI8",
        "outputId": "5c4ade8f-edb4-4120-ca73-0ebeba132689"
      },
      "outputs": [
        {
          "data": {
            "text/plain": [
              "<10933x16436 sparse matrix of type '<class 'numpy.int64'>'\n",
              "\twith 153031 stored elements in Compressed Sparse Row format>"
            ]
          },
          "execution_count": 25,
          "metadata": {},
          "output_type": "execute_result"
        }
      ],
      "source": [
        "cv = CountVectorizer()\n",
        "cv.fit(data_preprocessed)\n",
        "\n",
        "X_cv = cv.transform(data_preprocessed)\n",
        "X_cv"
      ]
    },
    {
      "cell_type": "code",
      "execution_count": 26,
      "metadata": {
        "id": "wJpnx4n7ZK9s"
      },
      "outputs": [],
      "source": [
        "pickle.dump(cv, open(\"pickle/feature_cv.pkl\", \"wb\"))"
      ]
    },
    {
      "cell_type": "markdown",
      "metadata": {
        "id": "fF40nxsMaKLP"
      },
      "source": [
        "## **6. Splitting the Dataset into Train and Test**"
      ]
    },
    {
      "cell_type": "markdown",
      "metadata": {
        "id": "aBm0s-Sfadja"
      },
      "source": [
        "Feature (X) dan label (y) akan dibagi menjadi train dan test. Feature yang digunakan dapat dipilih dari hasil Bag of Word (X_cv) maupun TF-IDF (X_tf)."
      ]
    },
    {
      "cell_type": "code",
      "execution_count": 27,
      "metadata": {
        "id": "U8zcYCrNaW2f"
      },
      "outputs": [],
      "source": [
        "X_train, X_test, y_train, y_test = train_test_split(X_cv, classes, test_size = 0.2)"
      ]
    },
    {
      "attachments": {},
      "cell_type": "markdown",
      "metadata": {
        "id": "N-FDYYi3b4Ok"
      },
      "source": [
        "## **7. Model Training and Evaluation**"
      ]
    },
    {
      "cell_type": "code",
      "execution_count": 28,
      "metadata": {
        "colab": {
          "base_uri": "https://localhost:8080/"
        },
        "id": "R2J5U4iebS3_",
        "outputId": "d921c2e7-10d0-40aa-bfe3-2b4f0ca4ca3c"
      },
      "outputs": [
        {
          "data": {
            "text/html": [
              "<style>#sk-container-id-1 {color: black;background-color: white;}#sk-container-id-1 pre{padding: 0;}#sk-container-id-1 div.sk-toggleable {background-color: white;}#sk-container-id-1 label.sk-toggleable__label {cursor: pointer;display: block;width: 100%;margin-bottom: 0;padding: 0.3em;box-sizing: border-box;text-align: center;}#sk-container-id-1 label.sk-toggleable__label-arrow:before {content: \"▸\";float: left;margin-right: 0.25em;color: #696969;}#sk-container-id-1 label.sk-toggleable__label-arrow:hover:before {color: black;}#sk-container-id-1 div.sk-estimator:hover label.sk-toggleable__label-arrow:before {color: black;}#sk-container-id-1 div.sk-toggleable__content {max-height: 0;max-width: 0;overflow: hidden;text-align: left;background-color: #f0f8ff;}#sk-container-id-1 div.sk-toggleable__content pre {margin: 0.2em;color: black;border-radius: 0.25em;background-color: #f0f8ff;}#sk-container-id-1 input.sk-toggleable__control:checked~div.sk-toggleable__content {max-height: 200px;max-width: 100%;overflow: auto;}#sk-container-id-1 input.sk-toggleable__control:checked~label.sk-toggleable__label-arrow:before {content: \"▾\";}#sk-container-id-1 div.sk-estimator input.sk-toggleable__control:checked~label.sk-toggleable__label {background-color: #d4ebff;}#sk-container-id-1 div.sk-label input.sk-toggleable__control:checked~label.sk-toggleable__label {background-color: #d4ebff;}#sk-container-id-1 input.sk-hidden--visually {border: 0;clip: rect(1px 1px 1px 1px);clip: rect(1px, 1px, 1px, 1px);height: 1px;margin: -1px;overflow: hidden;padding: 0;position: absolute;width: 1px;}#sk-container-id-1 div.sk-estimator {font-family: monospace;background-color: #f0f8ff;border: 1px dotted black;border-radius: 0.25em;box-sizing: border-box;margin-bottom: 0.5em;}#sk-container-id-1 div.sk-estimator:hover {background-color: #d4ebff;}#sk-container-id-1 div.sk-parallel-item::after {content: \"\";width: 100%;border-bottom: 1px solid gray;flex-grow: 1;}#sk-container-id-1 div.sk-label:hover label.sk-toggleable__label {background-color: #d4ebff;}#sk-container-id-1 div.sk-serial::before {content: \"\";position: absolute;border-left: 1px solid gray;box-sizing: border-box;top: 0;bottom: 0;left: 50%;z-index: 0;}#sk-container-id-1 div.sk-serial {display: flex;flex-direction: column;align-items: center;background-color: white;padding-right: 0.2em;padding-left: 0.2em;position: relative;}#sk-container-id-1 div.sk-item {position: relative;z-index: 1;}#sk-container-id-1 div.sk-parallel {display: flex;align-items: stretch;justify-content: center;background-color: white;position: relative;}#sk-container-id-1 div.sk-item::before, #sk-container-id-1 div.sk-parallel-item::before {content: \"\";position: absolute;border-left: 1px solid gray;box-sizing: border-box;top: 0;bottom: 0;left: 50%;z-index: -1;}#sk-container-id-1 div.sk-parallel-item {display: flex;flex-direction: column;z-index: 1;position: relative;background-color: white;}#sk-container-id-1 div.sk-parallel-item:first-child::after {align-self: flex-end;width: 50%;}#sk-container-id-1 div.sk-parallel-item:last-child::after {align-self: flex-start;width: 50%;}#sk-container-id-1 div.sk-parallel-item:only-child::after {width: 0;}#sk-container-id-1 div.sk-dashed-wrapped {border: 1px dashed gray;margin: 0 0.4em 0.5em 0.4em;box-sizing: border-box;padding-bottom: 0.4em;background-color: white;}#sk-container-id-1 div.sk-label label {font-family: monospace;font-weight: bold;display: inline-block;line-height: 1.2em;}#sk-container-id-1 div.sk-label-container {text-align: center;}#sk-container-id-1 div.sk-container {/* jupyter's `normalize.less` sets `[hidden] { display: none; }` but bootstrap.min.css set `[hidden] { display: none !important; }` so we also need the `!important` here to be able to override the default hidden behavior on the sphinx rendered scikit-learn.org. See: https://github.com/scikit-learn/scikit-learn/issues/21755 */display: inline-block !important;position: relative;}#sk-container-id-1 div.sk-text-repr-fallback {display: none;}</style><div id=\"sk-container-id-1\" class=\"sk-top-container\"><div class=\"sk-text-repr-fallback\"><pre>MLPClassifier(early_stopping=True, hidden_layer_sizes=(64,), max_iter=300,\n",
              "              n_iter_no_change=20)</pre><b>In a Jupyter environment, please rerun this cell to show the HTML representation or trust the notebook. <br />On GitHub, the HTML representation is unable to render, please try loading this page with nbviewer.org.</b></div><div class=\"sk-container\" hidden><div class=\"sk-item\"><div class=\"sk-estimator sk-toggleable\"><input class=\"sk-toggleable__control sk-hidden--visually\" id=\"sk-estimator-id-1\" type=\"checkbox\" checked><label for=\"sk-estimator-id-1\" class=\"sk-toggleable__label sk-toggleable__label-arrow\">MLPClassifier</label><div class=\"sk-toggleable__content\"><pre>MLPClassifier(early_stopping=True, hidden_layer_sizes=(64,), max_iter=300,\n",
              "              n_iter_no_change=20)</pre></div></div></div></div></div>"
            ],
            "text/plain": [
              "MLPClassifier(early_stopping=True, hidden_layer_sizes=(64,), max_iter=300,\n",
              "              n_iter_no_change=20)"
            ]
          },
          "execution_count": 28,
          "metadata": {},
          "output_type": "execute_result"
        }
      ],
      "source": [
        "# Training\n",
        "model_neural = MLPClassifier(hidden_layer_sizes=(64,),max_iter=300,activation='relu',solver='adam',learning_rate_init=0.001, early_stopping=True, n_iter_no_change=20)\n",
        "model_neural.fit(X_train, y_train)"
      ]
    },
    {
      "cell_type": "code",
      "execution_count": 29,
      "metadata": {
        "id": "2QjtSEvl0lP0"
      },
      "outputs": [],
      "source": [
        "# Load the Training Model with Pickle\n",
        "pickle.dump(model_neural, open(\"pickle/model_neural.pkl\", \"wb\"))"
      ]
    },
    {
      "cell_type": "code",
      "execution_count": 30,
      "metadata": {
        "colab": {
          "base_uri": "https://localhost:8080/"
        },
        "id": "FKk2ZAmn0quI",
        "outputId": "8727fb17-0f89-425b-d286-8d753e8be280"
      },
      "outputs": [
        {
          "name": "stdout",
          "output_type": "stream",
          "text": [
            "Testing selesai\n",
            "              precision    recall  f1-score   support\n",
            "\n",
            "    negative       0.78      0.82      0.80       684\n",
            "     neutral       0.85      0.65      0.74       220\n",
            "    positive       0.91      0.92      0.91      1283\n",
            "\n",
            "    accuracy                           0.86      2187\n",
            "   macro avg       0.85      0.80      0.82      2187\n",
            "weighted avg       0.86      0.86      0.86      2187\n",
            "\n"
          ]
        }
      ],
      "source": [
        "# Classification Report\n",
        "test = model_neural.predict(X_test)\n",
        "print (\"Testing selesai\")\n",
        "\n",
        "print(classification_report(y_test, test)) "
      ]
    },
    {
      "cell_type": "code",
      "execution_count": 31,
      "metadata": {
        "colab": {
          "base_uri": "https://localhost:8080/"
        },
        "id": "ifcVtajG1dNQ",
        "outputId": "7357164e-f9dc-4dbf-8f37-022090b14cc5"
      },
      "outputs": [
        {
          "name": "stdout",
          "output_type": "stream",
          "text": [
            "Training ke- 1\n",
            "              precision    recall  f1-score   support\n",
            "\n",
            "    negative       0.78      0.81      0.80       690\n",
            "     neutral       0.80      0.66      0.72       220\n",
            "    positive       0.90      0.91      0.90      1277\n",
            "\n",
            "    accuracy                           0.85      2187\n",
            "   macro avg       0.83      0.79      0.81      2187\n",
            "weighted avg       0.85      0.85      0.85      2187\n",
            "\n",
            "======================================================\n",
            "Training ke- 2\n",
            "              precision    recall  f1-score   support\n",
            "\n",
            "    negative       0.78      0.82      0.80       667\n",
            "     neutral       0.82      0.63      0.71       219\n",
            "    positive       0.91      0.92      0.91      1301\n",
            "\n",
            "    accuracy                           0.86      2187\n",
            "   macro avg       0.84      0.79      0.81      2187\n",
            "weighted avg       0.86      0.86      0.86      2187\n",
            "\n",
            "======================================================\n",
            "Training ke- 3\n",
            "              precision    recall  f1-score   support\n",
            "\n",
            "    negative       0.78      0.81      0.80       695\n",
            "     neutral       0.83      0.60      0.70       213\n",
            "    positive       0.89      0.92      0.90      1279\n",
            "\n",
            "    accuracy                           0.85      2187\n",
            "   macro avg       0.84      0.78      0.80      2187\n",
            "weighted avg       0.85      0.85      0.85      2187\n",
            "\n",
            "======================================================\n",
            "Training ke- 4\n",
            "              precision    recall  f1-score   support\n",
            "\n",
            "    negative       0.75      0.81      0.78       705\n",
            "     neutral       0.85      0.64      0.73       234\n",
            "    positive       0.89      0.89      0.89      1247\n",
            "\n",
            "    accuracy                           0.84      2186\n",
            "   macro avg       0.83      0.78      0.80      2186\n",
            "weighted avg       0.84      0.84      0.84      2186\n",
            "\n",
            "======================================================\n",
            "Training ke- 5\n",
            "              precision    recall  f1-score   support\n",
            "\n",
            "    negative       0.78      0.79      0.78       655\n",
            "     neutral       0.79      0.58      0.67       252\n",
            "    positive       0.89      0.93      0.91      1279\n",
            "\n",
            "    accuracy                           0.85      2186\n",
            "   macro avg       0.82      0.76      0.79      2186\n",
            "weighted avg       0.84      0.85      0.84      2186\n",
            "\n",
            "======================================================\n",
            "\n",
            "\n",
            "\n",
            "Rata-rata Accuracy:  0.8496282825696717\n"
          ]
        }
      ],
      "source": [
        "kf = KFold(n_splits=5,random_state=42,shuffle=True)\n",
        "\n",
        "accuracies = []\n",
        "\n",
        "X = X_cv\n",
        "y = classes\n",
        "\n",
        "for iteration, data in enumerate(kf.split(X), start=1):\n",
        "\n",
        "    data_train   = X_cv[data[0]]\n",
        "    target_train = y[data[0]]\n",
        "\n",
        "    data_test    = X[data[1]]\n",
        "    target_test  = y[data[1]]\n",
        "\n",
        "    clf = MLPClassifier(hidden_layer_sizes=(64,),max_iter=1000,activation='relu',solver='adam',learning_rate_init=0.001,early_stopping=True,n_iter_no_change=20)\n",
        "    clf.fit(data_train,target_train)\n",
        "\n",
        "    preds = clf.predict(data_test)\n",
        " \n",
        "    accuracy = accuracy_score(target_test,preds)\n",
        "\n",
        "    print(\"Training ke-\", iteration)\n",
        "    print(classification_report(target_test,preds))\n",
        "    print(\"======================================================\")\n",
        "\n",
        "    accuracies.append(accuracy)\n",
        "\n",
        "# Accuracy Average\n",
        "average_accuracy = np.mean(accuracies)\n",
        "\n",
        "print()\n",
        "print()\n",
        "print()\n",
        "print(\"Rata-rata Accuracy: \", average_accuracy)"
      ]
    },
    {
      "attachments": {},
      "cell_type": "markdown",
      "metadata": {},
      "source": [
        "## **8. Predict**"
      ]
    },
    {
      "cell_type": "code",
      "execution_count": 32,
      "metadata": {
        "colab": {
          "base_uri": "https://localhost:8080/",
          "height": 423
        },
        "id": "c1mGj1Rq15Ax",
        "outputId": "5ec4ed82-aef9-409a-870d-276d8138539d"
      },
      "outputs": [
        {
          "data": {
            "text/html": [
              "<div>\n",
              "<style scoped>\n",
              "    .dataframe tbody tr th:only-of-type {\n",
              "        vertical-align: middle;\n",
              "    }\n",
              "\n",
              "    .dataframe tbody tr th {\n",
              "        vertical-align: top;\n",
              "    }\n",
              "\n",
              "    .dataframe thead th {\n",
              "        text-align: right;\n",
              "    }\n",
              "</style>\n",
              "<table border=\"1\" class=\"dataframe\">\n",
              "  <thead>\n",
              "    <tr style=\"text-align: right;\">\n",
              "      <th></th>\n",
              "      <th>text</th>\n",
              "      <th>text_clean</th>\n",
              "      <th>label</th>\n",
              "    </tr>\n",
              "  </thead>\n",
              "  <tbody>\n",
              "    <tr>\n",
              "      <th>0</th>\n",
              "      <td>- disaat semua cowok berusaha melacak perhatia...</td>\n",
              "      <td>disaat cowok berusaha melacak perhatian lantas...</td>\n",
              "      <td>positive</td>\n",
              "    </tr>\n",
              "    <tr>\n",
              "      <th>1</th>\n",
              "      <td>RT USER: USER siapa yang telat ngasih tau elu?...</td>\n",
              "      <td>terlambat edan sarap bergaul ciga jifla calis ...</td>\n",
              "      <td>negative</td>\n",
              "    </tr>\n",
              "    <tr>\n",
              "      <th>2</th>\n",
              "      <td>41. Kadang aku berfikir, kenapa aku tetap perc...</td>\n",
              "      <td>41 kadang berfikir percaya tuhan jatuh berkali...</td>\n",
              "      <td>positive</td>\n",
              "    </tr>\n",
              "    <tr>\n",
              "      <th>3</th>\n",
              "      <td>USER USER AKU ITU AKU\\n\\nKU TAU MATAMU SIPIT T...</td>\n",
              "      <td>nku matamu sipit diliat</td>\n",
              "      <td>negative</td>\n",
              "    </tr>\n",
              "    <tr>\n",
              "      <th>4</th>\n",
              "      <td>USER USER Kaum cebong kapir udah keliatan dong...</td>\n",
              "      <td>kaum cebong kapir dongoknya awal dongok hahahah</td>\n",
              "      <td>negative</td>\n",
              "    </tr>\n",
              "    <tr>\n",
              "      <th>...</th>\n",
              "      <td>...</td>\n",
              "      <td>...</td>\n",
              "      <td>...</td>\n",
              "    </tr>\n",
              "    <tr>\n",
              "      <th>13018</th>\n",
              "      <td>USER jangan asal ngomong ndasmu. congor lu yg ...</td>\n",
              "      <td>bicara ndasmu mulut sekate2 anjyng</td>\n",
              "      <td>negative</td>\n",
              "    </tr>\n",
              "    <tr>\n",
              "      <th>13019</th>\n",
              "      <td>USER Kasur mana enak kunyuk'</td>\n",
              "      <td>kasur enak kunyuk</td>\n",
              "      <td>negative</td>\n",
              "    </tr>\n",
              "    <tr>\n",
              "      <th>13020</th>\n",
              "      <td>USER Hati hati bisu :( .g\\n\\nlagi bosan huft \\...</td>\n",
              "      <td>hati hati bisu g nlagi bosan mengeluh</td>\n",
              "      <td>negative</td>\n",
              "    </tr>\n",
              "    <tr>\n",
              "      <th>13021</th>\n",
              "      <td>USER USER USER USER Bom yang real mudah terdet...</td>\n",
              "      <td>bom real mudah terdeteksi bom terkubur dahsyat...</td>\n",
              "      <td>negative</td>\n",
              "    </tr>\n",
              "    <tr>\n",
              "      <th>13022</th>\n",
              "      <td>USER Mana situ ngasih(\": itu cuma foto ya kuti...</td>\n",
              "      <td>situ foto iya kutil onta</td>\n",
              "      <td>negative</td>\n",
              "    </tr>\n",
              "  </tbody>\n",
              "</table>\n",
              "<p>13023 rows × 3 columns</p>\n",
              "</div>"
            ],
            "text/plain": [
              "                                                    text  \\\n",
              "0      - disaat semua cowok berusaha melacak perhatia...   \n",
              "1      RT USER: USER siapa yang telat ngasih tau elu?...   \n",
              "2      41. Kadang aku berfikir, kenapa aku tetap perc...   \n",
              "3      USER USER AKU ITU AKU\\n\\nKU TAU MATAMU SIPIT T...   \n",
              "4      USER USER Kaum cebong kapir udah keliatan dong...   \n",
              "...                                                  ...   \n",
              "13018  USER jangan asal ngomong ndasmu. congor lu yg ...   \n",
              "13019                       USER Kasur mana enak kunyuk'   \n",
              "13020  USER Hati hati bisu :( .g\\n\\nlagi bosan huft \\...   \n",
              "13021  USER USER USER USER Bom yang real mudah terdet...   \n",
              "13022  USER Mana situ ngasih(\": itu cuma foto ya kuti...   \n",
              "\n",
              "                                              text_clean     label  \n",
              "0      disaat cowok berusaha melacak perhatian lantas...  positive  \n",
              "1      terlambat edan sarap bergaul ciga jifla calis ...  negative  \n",
              "2      41 kadang berfikir percaya tuhan jatuh berkali...  positive  \n",
              "3                                nku matamu sipit diliat  negative  \n",
              "4        kaum cebong kapir dongoknya awal dongok hahahah  negative  \n",
              "...                                                  ...       ...  \n",
              "13018                 bicara ndasmu mulut sekate2 anjyng  negative  \n",
              "13019                                  kasur enak kunyuk  negative  \n",
              "13020              hati hati bisu g nlagi bosan mengeluh  negative  \n",
              "13021  bom real mudah terdeteksi bom terkubur dahsyat...  negative  \n",
              "13022                           situ foto iya kutil onta  negative  \n",
              "\n",
              "[13023 rows x 3 columns]"
            ]
          },
          "execution_count": 32,
          "metadata": {},
          "output_type": "execute_result"
        }
      ],
      "source": [
        "# Feature Extraction for Test Data\n",
        "data_preprocessed_test = df_test['text_clean'].tolist()\n",
        "X_cv_test = cv.transform(data_preprocessed_test) \n",
        "\n",
        "# Predict the label for Test Data\n",
        "predict_test = model_neural.predict(X_cv_test)\n",
        "\n",
        "# Convert the Label Prediction to Dataframe\n",
        "df_label = pd.DataFrame(predict_test, columns=['label'])\n",
        "\n",
        "# Join the Label Prediction to original Test Dataframe\n",
        "df_output = pd.concat([df_test,df_label], axis = 1) # Original Test Dataframe (Before Cleaning) + Label\n",
        "df_output"
      ]
    },
    {
      "cell_type": "code",
      "execution_count": 34,
      "metadata": {},
      "outputs": [],
      "source": [
        "df_output.to_csv('output_nn.csv', index = False)"
      ]
    },
    {
      "cell_type": "code",
      "execution_count": 33,
      "metadata": {
        "colab": {
          "base_uri": "https://localhost:8080/",
          "height": 491
        },
        "id": "Jx1IvVmsLYI3",
        "outputId": "e59dad70-bc22-4fa7-e9c6-31e947209224"
      },
      "outputs": [
        {
          "data": {
            "image/png": "[encoded data removed]",
            "text/plain": [
              "<Figure size 800x800 with 1 Axes>"
            ]
          },
          "metadata": {},
          "output_type": "display_data"
        }
      ],
      "source": [
        "# Pie Chart for Label Distribution Overview\n",
        "\n",
        "df_output['label'].value_counts().plot(kind='pie', autopct='%1.00f%%', figsize=(8,8), fontsize = 20)\n",
        "plt.title('Proporsi Label', fontsize=25)\n",
        "plt.show()"
      ]
    }
  ],
  "metadata": {
    "accelerator": "GPU",
    "colab": {
      "collapsed_sections": [
        "k4OXRIwWPSkt",
        "TsZftl43V16K",
        "fF40nxsMaKLP"
      ],
      "provenance": [],
      "toc_visible": true
    },
    "gpuClass": "standard",
    "kernelspec": {
      "display_name": "Python 3",
      "language": "python",
      "name": "python3"
    },
    "language_info": {
      "codemirror_mode": {
        "name": "ipython",
        "version": 3
      },
      "file_extension": ".py",
      "mimetype": "text/x-python",
      "name": "python",
      "nbconvert_exporter": "python",
      "pygments_lexer": "ipython3",
      "version": "3.10.7"
    },
    "vscode": {
      "interpreter": {
        "hash": "c3cb1dd373ca4450157e6f8978f97933cc3a7cdc0a8066204e60afd9526c388d"
      }
    }
  },
  "nbformat": 4,
  "nbformat_minor": 0
}
